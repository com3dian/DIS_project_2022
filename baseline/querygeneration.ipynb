{
  "nbformat": 4,
  "nbformat_minor": 0,
  "metadata": {
    "colab": {
      "name": "querygeneration.ipynb",
      "provenance": [],
      "collapsed_sections": []
    },
    "kernelspec": {
      "name": "python3",
      "display_name": "Python 3"
    },
    "language_info": {
      "name": "python"
    }
  },
  "cells": [
    {
      "cell_type": "code",
      "source": [
        "!wget https://dlcdn.apache.org/spark/spark-3.2.1/spark-3.2.1-bin-hadoop3.2.tgz\n",
        "!tar -xvf spark-3.2.1-bin-hadoop3.2.tgz\n",
        "!java -version\n",
        "!pip install findspark"
      ],
      "metadata": {
        "id": "XxHPufpd9j3n"
      },
      "execution_count": null,
      "outputs": []
    },
    {
      "cell_type": "code",
      "source": [
        "import os \n",
        "os.environ[\"SPARK_HOME\"] = \"/content/spark-3.2.1-bin-hadoop3.2\"\n",
        "import findspark\n",
        "findspark.init()\n",
        "from pyspark.sql import SparkSession\n",
        "import findspark\n",
        "findspark.init()\n",
        "from pyspark.sql import SparkSession\n",
        "from pyspark.sql.functions import *\n",
        "from pyspark.sql.types import *\n",
        "from pyspark.sql import Row\n",
        "import pyspark.sql.functions as f\n",
        "from pyspark.ml.feature import StringIndexer\n",
        "from pyspark.ml.feature import VectorAssembler\n",
        "\n",
        "## You can add more config while building \n",
        "spark = SparkSession.builder.master(\"local[8]\").\\\n",
        "                    config(\"spark.app.name\",\"session_one\").\\\n",
        "                    getOrCreate() #number of threads = 16\n",
        "\n"
      ],
      "metadata": {
        "id": "viyNlUU92Ksw"
      },
      "execution_count": 2,
      "outputs": []
    },
    {
      "cell_type": "code",
      "source": [
        "df = spark.read.csv(\"testpeople.csv\",header=True,inferSchema=True)\n",
        "df.show()"
      ],
      "metadata": {
        "id": "zPSvflmE7nwY",
        "colab": {
          "base_uri": "https://localhost:8080/"
        },
        "outputId": "8b0f9bbf-b901-4f7d-fe0f-e93da2bec0b1"
      },
      "execution_count": 3,
      "outputs": [
        {
          "output_type": "stream",
          "name": "stdout",
          "text": [
            "+----+---------+---+\n",
            "|Name|     city|age|\n",
            "+----+---------+---+\n",
            "|John|  utrecht| 20|\n",
            "|Mary|amsterdam| 21|\n",
            "|Nick|rotterdam| 22|\n",
            "|Nick|  utrecht| 21|\n",
            "|John|rotterdam| 21|\n",
            "|Mary|rotterdam| 22|\n",
            "|Nick|  utrecht| 20|\n",
            "|John|rotterdam| 21|\n",
            "|Nick|amsterdam| 20|\n",
            "|Mary|  utrecht| 22|\n",
            "+----+---------+---+\n",
            "\n"
          ]
        }
      ]
    },
    {
      "cell_type": "code",
      "source": [
        "def listOfFrequencyTables(df): #take main dataframe, generate frequency dataframes\n",
        "  histograms = []\n",
        "  for col in df.dtypes:\n",
        "      h=df.groupBy(col[0]).count()\n",
        "      h = h.sort(desc(\"count\"))\n",
        "      histograms.append(h)\n",
        "      h.show() #comment this line to suppress output\n",
        "  return histograms\n",
        "histograms = listOfFrequencyTables(df)"
      ],
      "metadata": {
        "id": "6vqZ5TqK7q2l",
        "colab": {
          "base_uri": "https://localhost:8080/"
        },
        "outputId": "7243718d-1773-4b09-ea6e-5d5324ad50aa"
      },
      "execution_count": 4,
      "outputs": [
        {
          "output_type": "stream",
          "name": "stdout",
          "text": [
            "+----+-----+\n",
            "|Name|count|\n",
            "+----+-----+\n",
            "|Nick|    4|\n",
            "|Mary|    3|\n",
            "|John|    3|\n",
            "+----+-----+\n",
            "\n",
            "+---------+-----+\n",
            "|     city|count|\n",
            "+---------+-----+\n",
            "|  utrecht|    4|\n",
            "|rotterdam|    4|\n",
            "|amsterdam|    2|\n",
            "+---------+-----+\n",
            "\n",
            "+---+-----+\n",
            "|age|count|\n",
            "+---+-----+\n",
            "| 21|    4|\n",
            "| 22|    3|\n",
            "| 20|    3|\n",
            "+---+-----+\n",
            "\n"
          ]
        }
      ]
    },
    {
      "cell_type": "code",
      "source": [
        "def getDecompFromTopFrequencies(histograms):\n",
        "  clusterlst=[]\n",
        "  for i in range(len(histograms)): #query database with top values of all columns\n",
        "    d= str(histograms[i].first()) #value of the first row\n",
        "    print(d)\n",
        "    d = d.split(\",\")[0].split('=')[1] #the splits are for formatting the string\n",
        "    print(d)\n",
        "    #print(\"d before:\",d)\n",
        "    if \"'\"  in d:\n",
        "      d = d.split(\"'\")[1]\n",
        "\n",
        "    #print(\"d after:\",d)\n",
        "    #print(type(d))\n",
        "    cname = str(histograms[i][0]).split(\"'\")[1]\n",
        "    print(cname,\"=\",d)\n",
        "    \n",
        "    data = (df.filter(col(cname) == d))\n",
        "    \n",
        "    data.show(15)\n",
        "    clusterlst.append(data)\n",
        "  return clusterlst\n",
        "\n",
        "clusterlst = getDecompFromTopFrequencies(histograms)\n"
      ],
      "metadata": {
        "id": "yQp2Ti452oGV",
        "colab": {
          "base_uri": "https://localhost:8080/"
        },
        "outputId": "b255c07b-0d30-4771-9b7d-5de1afc03955"
      },
      "execution_count": 5,
      "outputs": [
        {
          "output_type": "stream",
          "name": "stdout",
          "text": [
            "Row(Name='Nick', count=4)\n",
            "'Nick'\n",
            "Name = Nick\n",
            "+----+---------+---+\n",
            "|Name|     city|age|\n",
            "+----+---------+---+\n",
            "|Nick|rotterdam| 22|\n",
            "|Nick|  utrecht| 21|\n",
            "|Nick|  utrecht| 20|\n",
            "|Nick|amsterdam| 20|\n",
            "+----+---------+---+\n",
            "\n",
            "Row(city='rotterdam', count=4)\n",
            "'rotterdam'\n",
            "city = rotterdam\n",
            "+----+---------+---+\n",
            "|Name|     city|age|\n",
            "+----+---------+---+\n",
            "|Nick|rotterdam| 22|\n",
            "|John|rotterdam| 21|\n",
            "|Mary|rotterdam| 22|\n",
            "|John|rotterdam| 21|\n",
            "+----+---------+---+\n",
            "\n",
            "Row(age=21, count=4)\n",
            "21\n",
            "age = 21\n",
            "+----+---------+---+\n",
            "|Name|     city|age|\n",
            "+----+---------+---+\n",
            "|Mary|amsterdam| 21|\n",
            "|Nick|  utrecht| 21|\n",
            "|John|rotterdam| 21|\n",
            "|John|rotterdam| 21|\n",
            "+----+---------+---+\n",
            "\n"
          ]
        }
      ]
    },
    {
      "cell_type": "code",
      "source": [
        "def are_dfs_equal(df1, df2): #this works, i tested it\n",
        "  res = df1.subtract(df2) #set subtraction on the two dataframes. \n",
        "  if res.count() == 0: #subtraction yielded empty set\n",
        "    print(\"dataframes are equal\")\n",
        "    return True\n",
        "  else:\n",
        "    print(\"error! these rows are not in the union of your queries:\")\n",
        "    res.show() #show which tuples are not included in your query union\n",
        "    return False"
      ],
      "metadata": {
        "id": "DLfmCMFmoZQ8"
      },
      "execution_count": 6,
      "outputs": []
    },
    {
      "cell_type": "code",
      "source": [
        "from functools import reduce\n",
        "from pyspark.sql.functions import lit\n",
        "from pyspark.sql import DataFrame\n",
        "def getDecompUsingFreqTable(df,freqdf): #takes original database and one frequency table as input, returns union of all queried dataframes as output\n",
        "  print(\"this is frequency table:\")\n",
        "  freqdf.show()\n",
        "  cname = freqdf.columns[0]\n",
        "  valuelist = (freqdf.select(freqdf.columns[0]).rdd.flatMap(lambda x: x).collect()) #list of all values of frequency column\n",
        "\n",
        "  unionlst = []\n",
        "  for v in valuelist: #each unique value in the freq. table is used as a query\n",
        "    result = df.filter(col(cname) == v)\n",
        "    querystr = cname + \"=\" + str(v)\n",
        "    containsquery = False\n",
        "    for c in df.columns: #check if query column exists in the input dataframe\n",
        "      if \"query\" in c:\n",
        "        containsquery= True\n",
        "    \n",
        "    if(containsquery): #check if query column already exists in the input\n",
        "      newquery = str(result.select(col(\"query\")).first()).split(\"'\")[1] + \",\" + querystr #concatenate existing with new queries\n",
        "\n",
        "      newres=result.withColumn(\"query\",lit(newquery))\n",
        "    else:\n",
        "      print(\"creating query column:\")\n",
        "      newres=result.withColumn(\"query\",lit(querystr))\n",
        "    print(querystr)\n",
        "    #newres.show()\n",
        "    unionlst.append(newres)\n",
        "  unn = reduce(DataFrame.unionAll, unionlst) #put all queried dataframes back together as one\n",
        "  print(\"union:\")\n",
        "  #unn.show()\n",
        "\n",
        "  return unn\n",
        "\n",
        "\n",
        "union = (getDecompUsingFreqTable(df,histograms[0])) #function call with 'Name' frequency table\n",
        "print(\"equality result:\")\n",
        "subdf = are_dfs_equal(df,union.drop('query')) #checks if union of queries covers whole database\n",
        "print(subdf)\n",
        "print(\"\\nnext run:\")\n",
        "union1 = (getDecompUsingFreqTable(union,histograms[1]))\n",
        "union2 = (getDecompUsingFreqTable(union1,histograms[2]))\n",
        "\n",
        "print(\"after queries:\\n\")\n",
        "union.show(10,False)\n",
        "union1.show(10,False)\n",
        "union2.show(10,False)\n"
      ],
      "metadata": {
        "colab": {
          "base_uri": "https://localhost:8080/"
        },
        "id": "0V1GJ4Q8lALe",
        "outputId": "6387c5fb-9acb-4c17-bf64-647ed7475a1c"
      },
      "execution_count": 7,
      "outputs": [
        {
          "output_type": "stream",
          "name": "stdout",
          "text": [
            "this is frequency table:\n",
            "+----+-----+\n",
            "|Name|count|\n",
            "+----+-----+\n",
            "|Nick|    4|\n",
            "|Mary|    3|\n",
            "|John|    3|\n",
            "+----+-----+\n",
            "\n",
            "creating query column:\n",
            "Name=Nick\n",
            "creating query column:\n",
            "Name=Mary\n",
            "creating query column:\n",
            "Name=John\n",
            "union:\n",
            "equality result:\n",
            "dataframes are equal\n",
            "True\n",
            "\n",
            "next run:\n",
            "this is frequency table:\n",
            "+---------+-----+\n",
            "|     city|count|\n",
            "+---------+-----+\n",
            "|  utrecht|    4|\n",
            "|rotterdam|    4|\n",
            "|amsterdam|    2|\n",
            "+---------+-----+\n",
            "\n",
            "city=rotterdam\n",
            "city=utrecht\n",
            "city=amsterdam\n",
            "union:\n",
            "this is frequency table:\n",
            "+---+-----+\n",
            "|age|count|\n",
            "+---+-----+\n",
            "| 21|    4|\n",
            "| 22|    3|\n",
            "| 20|    3|\n",
            "+---+-----+\n",
            "\n",
            "age=21\n",
            "age=22\n",
            "age=20\n",
            "union:\n",
            "after queries:\n",
            "\n",
            "+----+---------+---+---------+\n",
            "|Name|city     |age|query    |\n",
            "+----+---------+---+---------+\n",
            "|Nick|rotterdam|22 |Name=Nick|\n",
            "|Nick|utrecht  |21 |Name=Nick|\n",
            "|Nick|utrecht  |20 |Name=Nick|\n",
            "|Nick|amsterdam|20 |Name=Nick|\n",
            "|Mary|amsterdam|21 |Name=Mary|\n",
            "|Mary|rotterdam|22 |Name=Mary|\n",
            "|Mary|utrecht  |22 |Name=Mary|\n",
            "|John|utrecht  |20 |Name=John|\n",
            "|John|rotterdam|21 |Name=John|\n",
            "|John|rotterdam|21 |Name=John|\n",
            "+----+---------+---+---------+\n",
            "\n",
            "+----+---------+---+------------------------+\n",
            "|Name|city     |age|query                   |\n",
            "+----+---------+---+------------------------+\n",
            "|Nick|rotterdam|22 |Name=Nick,city=rotterdam|\n",
            "|Mary|rotterdam|22 |Name=Nick,city=rotterdam|\n",
            "|John|rotterdam|21 |Name=Nick,city=rotterdam|\n",
            "|John|rotterdam|21 |Name=Nick,city=rotterdam|\n",
            "|Nick|utrecht  |21 |Name=Nick,city=utrecht  |\n",
            "|Nick|utrecht  |20 |Name=Nick,city=utrecht  |\n",
            "|Mary|utrecht  |22 |Name=Nick,city=utrecht  |\n",
            "|John|utrecht  |20 |Name=Nick,city=utrecht  |\n",
            "|Nick|amsterdam|20 |Name=Nick,city=amsterdam|\n",
            "|Mary|amsterdam|21 |Name=Nick,city=amsterdam|\n",
            "+----+---------+---+------------------------+\n",
            "\n",
            "+----+---------+---+-------------------------------+\n",
            "|Name|city     |age|query                          |\n",
            "+----+---------+---+-------------------------------+\n",
            "|John|rotterdam|21 |Name=Nick,city=rotterdam,age=21|\n",
            "|John|rotterdam|21 |Name=Nick,city=rotterdam,age=21|\n",
            "|Nick|utrecht  |21 |Name=Nick,city=rotterdam,age=21|\n",
            "|Mary|amsterdam|21 |Name=Nick,city=rotterdam,age=21|\n",
            "|Nick|rotterdam|22 |Name=Nick,city=rotterdam,age=22|\n",
            "|Mary|rotterdam|22 |Name=Nick,city=rotterdam,age=22|\n",
            "|Mary|utrecht  |22 |Name=Nick,city=rotterdam,age=22|\n",
            "|Nick|utrecht  |20 |Name=Nick,city=utrecht,age=20  |\n",
            "|John|utrecht  |20 |Name=Nick,city=utrecht,age=20  |\n",
            "|Nick|amsterdam|20 |Name=Nick,city=utrecht,age=20  |\n",
            "+----+---------+---+-------------------------------+\n",
            "\n"
          ]
        }
      ]
    },
    {
      "cell_type": "code",
      "source": [
        "def are_dfs_equal(df1, df2): #this works, i tested it\n",
        "  res = df1.subtract(df2) #set subtraction on the two dataframes. \n",
        "  if res.count() == 0: #subtraction yielded empty set\n",
        "    print(\"dataframes are equal\")\n",
        "    return True\n",
        "  else:\n",
        "    print(\"error! these rows are not in the union of your queries:\")\n",
        "    res.show() #show which tuples are not included in your query union\n",
        "    return False"
      ],
      "metadata": {
        "id": "fCXITpEFw6GS"
      },
      "execution_count": 8,
      "outputs": []
    },
    {
      "cell_type": "code",
      "source": [
        "listOfFrequencyTables(clusterlst[0])"
      ],
      "metadata": {
        "colab": {
          "base_uri": "https://localhost:8080/"
        },
        "id": "7xxiTLKQeFX3",
        "outputId": "a2938750-4368-401b-89e7-65e7f31eac2e"
      },
      "execution_count": 9,
      "outputs": [
        {
          "output_type": "stream",
          "name": "stdout",
          "text": [
            "+----+-----+\n",
            "|Name|count|\n",
            "+----+-----+\n",
            "|Nick|    4|\n",
            "+----+-----+\n",
            "\n",
            "+---------+-----+\n",
            "|     city|count|\n",
            "+---------+-----+\n",
            "|  utrecht|    2|\n",
            "|amsterdam|    1|\n",
            "|rotterdam|    1|\n",
            "+---------+-----+\n",
            "\n",
            "+---+-----+\n",
            "|age|count|\n",
            "+---+-----+\n",
            "| 20|    2|\n",
            "| 22|    1|\n",
            "| 21|    1|\n",
            "+---+-----+\n",
            "\n"
          ]
        },
        {
          "output_type": "execute_result",
          "data": {
            "text/plain": [
              "[DataFrame[Name: string, count: bigint],\n",
              " DataFrame[city: string, count: bigint],\n",
              " DataFrame[age: int, count: bigint]]"
            ]
          },
          "metadata": {},
          "execution_count": 9
        }
      ]
    },
    {
      "cell_type": "code",
      "source": [
        "\n",
        "def addFeatureVector(df): #get feature vector for any dataframe for homogeneity function\n",
        "  string_cols = [c for c, t in df.dtypes if t =='string' and c != 'query'] #get all columns that have stringtype, except query column\n",
        "\n",
        "  stringindex_cols = [(i + \"_indexed\") for i in string_cols]\n",
        "  indexer  = StringIndexer( inputCols=string_cols, outputCols=stringindex_cols, handleInvalid='error', stringOrderType='frequencyDesc')\n",
        "  indexer.setHandleInvalid(\"keep\") #change to \"skip\" to remove problematic rows\n",
        "  indexed = indexer.fit(df).transform(df) #dataframe with indexed columns attached\n",
        "\n",
        "  allnonstringcols = [column.name for column in indexed.schema if column.dataType != StringType()]\n",
        "  vecAssembler = VectorAssembler(outputCol=\"features\")\n",
        "  vecAssembler.setInputCols(allnonstringcols) #all numerical columns are put into feature vector, including indexed cols\n",
        "\n",
        "  result=  ( vecAssembler.transform(indexed)) #return the dataframe with feature column attached\n",
        "  return result\n",
        " \n",
        "\n",
        "union2withvec = addFeatureVector(union2)\n",
        "union2withvec.show()"
      ],
      "metadata": {
        "colab": {
          "base_uri": "https://localhost:8080/"
        },
        "id": "TOD3Y1cKjwG6",
        "outputId": "1e8fa002-dcb9-4f5b-b0a2-7b47c3812938"
      },
      "execution_count": 10,
      "outputs": [
        {
          "output_type": "stream",
          "name": "stdout",
          "text": [
            "+----+---------+---+--------------------+------------+------------+--------------+\n",
            "|Name|     city|age|               query|Name_indexed|city_indexed|      features|\n",
            "+----+---------+---+--------------------+------------+------------+--------------+\n",
            "|John|rotterdam| 21|Name=Nick,city=ro...|         1.0|         0.0|[21.0,1.0,0.0]|\n",
            "|John|rotterdam| 21|Name=Nick,city=ro...|         1.0|         0.0|[21.0,1.0,0.0]|\n",
            "|Nick|  utrecht| 21|Name=Nick,city=ro...|         0.0|         1.0|[21.0,0.0,1.0]|\n",
            "|Mary|amsterdam| 21|Name=Nick,city=ro...|         2.0|         2.0|[21.0,2.0,2.0]|\n",
            "|Nick|rotterdam| 22|Name=Nick,city=ro...|         0.0|         0.0|[22.0,0.0,0.0]|\n",
            "|Mary|rotterdam| 22|Name=Nick,city=ro...|         2.0|         0.0|[22.0,2.0,0.0]|\n",
            "|Mary|  utrecht| 22|Name=Nick,city=ro...|         2.0|         1.0|[22.0,2.0,1.0]|\n",
            "|Nick|  utrecht| 20|Name=Nick,city=ut...|         0.0|         1.0|[20.0,0.0,1.0]|\n",
            "|John|  utrecht| 20|Name=Nick,city=ut...|         1.0|         1.0|[20.0,1.0,1.0]|\n",
            "|Nick|amsterdam| 20|Name=Nick,city=ut...|         0.0|         2.0|[20.0,0.0,2.0]|\n",
            "+----+---------+---+--------------------+------------+------------+--------------+\n",
            "\n"
          ]
        }
      ]
    }
  ]
}