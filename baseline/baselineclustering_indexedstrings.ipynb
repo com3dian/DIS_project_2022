{
  "nbformat": 4,
  "nbformat_minor": 0,
  "metadata": {
    "colab": {
      "name": "baselineclustering_indexedstrings.ipynb",
      "provenance": [],
      "collapsed_sections": []
    },
    "kernelspec": {
      "name": "python3",
      "display_name": "Python 3"
    },
    "language_info": {
      "name": "python"
    }
  },
  "cells": [
    {
      "cell_type": "code",
      "source": [
        "!wget https://dlcdn.apache.org/spark/spark-3.2.1/spark-3.2.1-bin-hadoop3.2.tgz\n",
        "!tar -xvf spark-3.2.1-bin-hadoop3.2.tgz\n",
        "!java -version\n",
        "!pip install findspark"
      ],
      "metadata": {
        "id": "XxHPufpd9j3n",
        "colab": {
          "base_uri": "https://localhost:8080/"
        },
        "outputId": "82334803-7617-4f2e-ebee-d4f83fda34e8"
      },
      "execution_count": null,
      "outputs": [
        {
          "output_type": "stream",
          "name": "stdout",
          "text": [
            "Installing collected packages: findspark\n",
            "Successfully installed findspark-2.0.1\n"
          ]
        }
      ]
    },
    {
      "cell_type": "code",
      "source": [
        "import os \n",
        "os.environ[\"SPARK_HOME\"] = \"/content/spark-3.2.1-bin-hadoop3.2\"\n",
        "import findspark\n",
        "findspark.init()\n",
        "from pyspark.sql import SparkSession\n",
        "import findspark\n",
        "findspark.init()\n",
        "from pyspark.sql import SparkSession\n",
        "\n",
        "## You can add more config while building \n",
        "spark = SparkSession.builder.master(\"local[8]\").\\\n",
        "                    config(\"spark.app.name\",\"session_one\").\\\n",
        "                    getOrCreate() #number of threads = 16"
      ],
      "metadata": {
        "id": "viyNlUU92Ksw"
      },
      "execution_count": null,
      "outputs": []
    },
    {
      "cell_type": "code",
      "source": [
        "dfs = spark.read.csv(\"cities.csv\",header=True,inferSchema=True)\n",
        "dfs.show()"
      ],
      "metadata": {
        "colab": {
          "base_uri": "https://localhost:8080/"
        },
        "id": "QWOPnIL94c6H",
        "outputId": "bfaad557-8de0-4e0a-ef11-56fa30819292"
      },
      "execution_count": null,
      "outputs": [
        {
          "output_type": "stream",
          "name": "stdout",
          "text": [
            "+----+-------+-------+-----+-------+-------+-------+-----+------------------+--------+\n",
            "|LatD| \"LatM\"| \"LatS\"| \"NS\"| \"LonD\"| \"LonM\"| \"LonS\"| \"EW\"|            \"City\"| \"State\"|\n",
            "+----+-------+-------+-----+-------+-------+-------+-----+------------------+--------+\n",
            "|41.0|    5.0|   59.0|  \"N\"|   80.0|   39.0|    0.0|  \"W\"|      \"Youngstown\"|      OH|\n",
            "|42.0|   52.0|   48.0|  \"N\"|   97.0|   23.0|   23.0|  \"W\"|         \"Yankton\"|      SD|\n",
            "|46.0|   35.0|   59.0|  \"N\"|  120.0|   30.0|   36.0|  \"W\"|          \"Yakima\"|      WA|\n",
            "|42.0|   16.0|   12.0|  \"N\"|   71.0|   48.0|    0.0|  \"W\"|       \"Worcester\"|      MA|\n",
            "|43.0|   37.0|   48.0|  \"N\"|   89.0|   46.0|   11.0|  \"W\"| \"Wisconsin Dells\"|      WI|\n",
            "|36.0|    5.0|   59.0|  \"N\"|   80.0|   15.0|    0.0|  \"W\"|   \"Winston-Salem\"|      NC|\n",
            "|49.0|   52.0|   48.0|  \"N\"|   97.0|    9.0|    0.0|  \"W\"|        \"Winnipeg\"|      MB|\n",
            "|39.0|   11.0|   23.0|  \"N\"|   78.0|    9.0|   36.0|  \"W\"|      \"Winchester\"|      VA|\n",
            "|34.0|   14.0|   24.0|  \"N\"|   77.0|   55.0|   11.0|  \"W\"|      \"Wilmington\"|      NC|\n",
            "|39.0|   45.0|    0.0|  \"N\"|   75.0|   33.0|    0.0|  \"W\"|      \"Wilmington\"|      DE|\n",
            "|48.0|    9.0|    0.0|  \"N\"|  103.0|   37.0|   12.0|  \"W\"|       \"Williston\"|      ND|\n",
            "|41.0|   15.0|    0.0|  \"N\"|   77.0|    0.0|    0.0|  \"W\"|    \"Williamsport\"|      PA|\n",
            "|37.0|   40.0|   48.0|  \"N\"|   82.0|   16.0|   47.0|  \"W\"|      \"Williamson\"|      WV|\n",
            "|33.0|   54.0|    0.0|  \"N\"|   98.0|   29.0|   23.0|  \"W\"|   \"Wichita Falls\"|      TX|\n",
            "|37.0|   41.0|   23.0|  \"N\"|   97.0|   20.0|   23.0|  \"W\"|         \"Wichita\"|      KS|\n",
            "|40.0|    4.0|   11.0|  \"N\"|   80.0|   43.0|   12.0|  \"W\"|        \"Wheeling\"|      WV|\n",
            "|26.0|   43.0|   11.0|  \"N\"|   80.0|    3.0|    0.0|  \"W\"| \"West Palm Beach\"|      FL|\n",
            "|47.0|   25.0|   11.0|  \"N\"|  120.0|   19.0|   11.0|  \"W\"|       \"Wenatchee\"|      WA|\n",
            "|41.0|   25.0|   11.0|  \"N\"|  122.0|   23.0|   23.0|  \"W\"|            \"Weed\"|      CA|\n",
            "|31.0|   13.0|   11.0|  \"N\"|   82.0|   20.0|   59.0|  \"W\"|        \"Waycross\"|      GA|\n",
            "+----+-------+-------+-----+-------+-------+-------+-----+------------------+--------+\n",
            "only showing top 20 rows\n",
            "\n"
          ]
        }
      ]
    },
    {
      "cell_type": "code",
      "source": [
        "dfs.schema.fields"
      ],
      "metadata": {
        "colab": {
          "base_uri": "https://localhost:8080/"
        },
        "id": "h5kG2r-s4412",
        "outputId": "3bbb8a91-254d-4efa-9961-ed05966ae588"
      },
      "execution_count": null,
      "outputs": [
        {
          "output_type": "execute_result",
          "data": {
            "text/plain": [
              "[StructField(LatD,DoubleType,true),\n",
              " StructField( \"LatM\",DoubleType,true),\n",
              " StructField( \"LatS\",DoubleType,true),\n",
              " StructField( \"NS\",StringType,true),\n",
              " StructField( \"LonD\",DoubleType,true),\n",
              " StructField( \"LonM\",DoubleType,true),\n",
              " StructField( \"LonS\",DoubleType,true),\n",
              " StructField( \"EW\",StringType,true),\n",
              " StructField( \"City\",StringType,true),\n",
              " StructField( \"State\",StringType,true)]"
            ]
          },
          "metadata": {},
          "execution_count": 48
        }
      ]
    },
    {
      "cell_type": "code",
      "source": [
        "string_cols = [c for c, t in dfs.dtypes if t =='string'] #all stringtype column names in a list\n",
        "print(string_cols)\n",
        "stringindex_cols = [(i + \"_indexed\") for i in string_cols]\n",
        "print(stringindex_cols)"
      ],
      "metadata": {
        "colab": {
          "base_uri": "https://localhost:8080/"
        },
        "id": "4dcDBjpW6HW-",
        "outputId": "fdaf880e-ab26-4e2b-895a-478553758346"
      },
      "execution_count": null,
      "outputs": [
        {
          "output_type": "stream",
          "name": "stdout",
          "text": [
            "[' \"NS\"', ' \"EW\"', ' \"City\"', ' \"State\"']\n",
            "[' \"NS\"_indexed', ' \"EW\"_indexed', ' \"City\"_indexed', ' \"State\"_indexed']\n"
          ]
        }
      ]
    },
    {
      "cell_type": "code",
      "source": [
        "from pyspark.ml.feature import StringIndexer\n",
        "indexer  = StringIndexer( inputCols=string_cols, outputCols=stringindex_cols, handleInvalid='error', stringOrderType='frequencyDesc')\n",
        "indexer.setHandleInvalid(\"skip\")\n",
        "indexed = indexer.fit(dfs).transform(dfs)\n",
        "indexed.show()"
      ],
      "metadata": {
        "colab": {
          "base_uri": "https://localhost:8080/"
        },
        "id": "vpjaye667mov",
        "outputId": "0de6e2a1-a1d1-4e03-962b-d48dedd3bb28"
      },
      "execution_count": null,
      "outputs": [
        {
          "output_type": "stream",
          "name": "stdout",
          "text": [
            "+----+-------+-------+-----+-------+-------+-------+-----+------------------+--------+-------------+-------------+---------------+----------------+\n",
            "|LatD| \"LatM\"| \"LatS\"| \"NS\"| \"LonD\"| \"LonM\"| \"LonS\"| \"EW\"|            \"City\"| \"State\"| \"NS\"_indexed| \"EW\"_indexed| \"City\"_indexed| \"State\"_indexed|\n",
            "+----+-------+-------+-----+-------+-------+-------+-----+------------------+--------+-------------+-------------+---------------+----------------+\n",
            "|41.0|    5.0|   59.0|  \"N\"|   80.0|   39.0|    0.0|  \"W\"|      \"Youngstown\"|      OH|          0.0|          0.0|          119.0|             6.0|\n",
            "|42.0|   52.0|   48.0|  \"N\"|   97.0|   23.0|   23.0|  \"W\"|         \"Yankton\"|      SD|          0.0|          0.0|          118.0|            18.0|\n",
            "|46.0|   35.0|   59.0|  \"N\"|  120.0|   30.0|   36.0|  \"W\"|          \"Yakima\"|      WA|          0.0|          0.0|          117.0|             3.0|\n",
            "|42.0|   16.0|   12.0|  \"N\"|   71.0|   48.0|    0.0|  \"W\"|       \"Worcester\"|      MA|          0.0|          0.0|          116.0|            21.0|\n",
            "|43.0|   37.0|   48.0|  \"N\"|   89.0|   46.0|   11.0|  \"W\"| \"Wisconsin Dells\"|      WI|          0.0|          0.0|          115.0|            12.0|\n",
            "|36.0|    5.0|   59.0|  \"N\"|   80.0|   15.0|    0.0|  \"W\"|   \"Winston-Salem\"|      NC|          0.0|          0.0|          114.0|            17.0|\n",
            "|49.0|   52.0|   48.0|  \"N\"|   97.0|    9.0|    0.0|  \"W\"|        \"Winnipeg\"|      MB|          0.0|          0.0|          113.0|            37.0|\n",
            "|39.0|   11.0|   23.0|  \"N\"|   78.0|    9.0|   36.0|  \"W\"|      \"Winchester\"|      VA|          0.0|          0.0|          112.0|            11.0|\n",
            "|34.0|   14.0|   24.0|  \"N\"|   77.0|   55.0|   11.0|  \"W\"|      \"Wilmington\"|      NC|          0.0|          0.0|            5.0|            17.0|\n",
            "|39.0|   45.0|    0.0|  \"N\"|   75.0|   33.0|    0.0|  \"W\"|      \"Wilmington\"|      DE|          0.0|          0.0|            5.0|            34.0|\n",
            "|48.0|    9.0|    0.0|  \"N\"|  103.0|   37.0|   12.0|  \"W\"|       \"Williston\"|      ND|          0.0|          0.0|          111.0|            23.0|\n",
            "|41.0|   15.0|    0.0|  \"N\"|   77.0|    0.0|    0.0|  \"W\"|    \"Williamsport\"|      PA|          0.0|          0.0|          110.0|             2.0|\n",
            "|37.0|   40.0|   48.0|  \"N\"|   82.0|   16.0|   47.0|  \"W\"|      \"Williamson\"|      WV|          0.0|          0.0|          109.0|            28.0|\n",
            "|33.0|   54.0|    0.0|  \"N\"|   98.0|   29.0|   23.0|  \"W\"|   \"Wichita Falls\"|      TX|          0.0|          0.0|          107.0|             1.0|\n",
            "|37.0|   41.0|   23.0|  \"N\"|   97.0|   20.0|   23.0|  \"W\"|         \"Wichita\"|      KS|          0.0|          0.0|          108.0|            15.0|\n",
            "|40.0|    4.0|   11.0|  \"N\"|   80.0|   43.0|   12.0|  \"W\"|        \"Wheeling\"|      WV|          0.0|          0.0|          106.0|            28.0|\n",
            "|26.0|   43.0|   11.0|  \"N\"|   80.0|    3.0|    0.0|  \"W\"| \"West Palm Beach\"|      FL|          0.0|          0.0|          105.0|             4.0|\n",
            "|47.0|   25.0|   11.0|  \"N\"|  120.0|   19.0|   11.0|  \"W\"|       \"Wenatchee\"|      WA|          0.0|          0.0|          104.0|             3.0|\n",
            "|41.0|   25.0|   11.0|  \"N\"|  122.0|   23.0|   23.0|  \"W\"|            \"Weed\"|      CA|          0.0|          0.0|          103.0|             0.0|\n",
            "|31.0|   13.0|   11.0|  \"N\"|   82.0|   20.0|   59.0|  \"W\"|        \"Waycross\"|      GA|          0.0|          0.0|          102.0|             7.0|\n",
            "+----+-------+-------+-----+-------+-------+-------+-----+------------------+--------+-------------+-------------+---------------+----------------+\n",
            "only showing top 20 rows\n",
            "\n"
          ]
        }
      ]
    },
    {
      "cell_type": "code",
      "source": [
        "from pyspark.sql.types import *\n",
        "allnonstringcols = [column.name for column in indexed.schema if column.dataType != StringType()]\n",
        "print(allnonstringcols)"
      ],
      "metadata": {
        "colab": {
          "base_uri": "https://localhost:8080/"
        },
        "id": "lLHSwLbV80s-",
        "outputId": "32ac4824-8df2-44c6-cbe8-eeec12489622"
      },
      "execution_count": null,
      "outputs": [
        {
          "output_type": "stream",
          "name": "stdout",
          "text": [
            "['LatD', ' \"LatM\"', ' \"LatS\"', ' \"LonD\"', ' \"LonM\"', ' \"LonS\"', ' \"NS\"_indexed', ' \"EW\"_indexed', ' \"City\"_indexed', ' \"State\"_indexed']\n"
          ]
        }
      ]
    },
    {
      "cell_type": "code",
      "source": [
        "from pyspark.ml.feature import VectorAssembler\n",
        "vecAssembler = VectorAssembler(outputCol=\"features\")\n",
        "vecAssembler.setInputCols(allnonstringcols)\n",
        "print(vecAssembler)\n",
        "dataset = vecAssembler.transform(indexed)"
      ],
      "metadata": {
        "colab": {
          "base_uri": "https://localhost:8080/"
        },
        "id": "Yo1RLeh6-CnV",
        "outputId": "29e3d888-6d97-4f9a-ba2e-4582d3f3606c"
      },
      "execution_count": null,
      "outputs": [
        {
          "output_type": "stream",
          "name": "stdout",
          "text": [
            "VectorAssembler_4fd0482153f8\n"
          ]
        }
      ]
    },
    {
      "cell_type": "code",
      "source": [
        "from pyspark.ml.evaluation import ClusteringEvaluator\n",
        "from pyspark.ml.clustering import KMeans\n",
        "numIterations = 100\n",
        "numberClusters = 10\n",
        "kmeans = KMeans().setMaxIter(numIterations).setK(numberClusters).setSeed(1)\n",
        "model = kmeans.fit(dataset)\n",
        "predictions = model.transform(dataset)\n"
      ],
      "metadata": {
        "id": "d4xFvU-X-08G"
      },
      "execution_count": null,
      "outputs": []
    },
    {
      "cell_type": "code",
      "source": [
        "p1 = predictions.orderBy('prediction')\n",
        "p1.show(n=30,truncate=False)\n"
      ],
      "metadata": {
        "colab": {
          "base_uri": "https://localhost:8080/"
        },
        "id": "VnVbyCP6DZ0Z",
        "outputId": "34659ea8-95d7-4b99-83ca-7adc6ce8e600"
      },
      "execution_count": null,
      "outputs": [
        {
          "output_type": "stream",
          "name": "stdout",
          "text": [
            "+----+-------+-------+-----+-------+-------+-------+-----+---------------------+--------+-------------+-------------+---------------+----------------+--------------------------------------------------+----------+\n",
            "|LatD| \"LatM\"| \"LatS\"| \"NS\"| \"LonD\"| \"LonM\"| \"LonS\"| \"EW\"| \"City\"              | \"State\"| \"NS\"_indexed| \"EW\"_indexed| \"City\"_indexed| \"State\"_indexed|features                                          |prediction|\n",
            "+----+-------+-------+-----+-------+-------+-------+-----+---------------------+--------+-------------+-------------+---------------+----------------+--------------------------------------------------+----------+\n",
            "|44.0|45.0   |35.0   | \"N\" |85.0   |37.0   |47.0   | \"W\" | \"Traverse City\"     | MI     |0.0          |0.0          |77.0           |9.0             |[44.0,45.0,35.0,85.0,37.0,47.0,0.0,0.0,77.0,9.0]  |0         |\n",
            "|47.0|14.0   |24.0   | \"N\" |122.0  |25.0   |48.0   | \"W\" | \"Tacoma\"            | WA     |0.0          |0.0          |69.0           |3.0             |[47.0,14.0,24.0,122.0,25.0,48.0,0.0,0.0,69.0,3.0] |0         |\n",
            "|41.0|39.0   |0.0    | \"N\" |83.0   |32.0   |24.0   | \"W\" | \"Toledo\"            | OH     |0.0          |0.0          |74.0           |6.0             |[41.0,39.0,0.0,83.0,32.0,24.0,0.0,0.0,74.0,6.0]   |0         |\n",
            "|39.0|54.0   |0.0    | \"N\" |79.0   |43.0   |48.0   | \"W\" | \"Uniontown\"         | PA     |0.0          |0.0          |86.0           |2.0             |[39.0,54.0,0.0,79.0,43.0,48.0,0.0,0.0,86.0,2.0]   |0         |\n",
            "|43.0|39.0   |0.0    | \"N\" |79.0   |22.0   |47.0   | \"W\" | \"Toronto\"           | ON     |0.0          |0.0          |76.0           |43.0            |[43.0,39.0,0.0,79.0,22.0,47.0,0.0,0.0,76.0,43.0]  |0         |\n",
            "|42.0|49.0   |11.0   | \"N\" |73.0   |56.0   |59.0   | \"W\" | \"Schenectady\"       | NY     |0.0          |0.0          |46.0           |5.0             |[42.0,49.0,11.0,73.0,56.0,59.0,0.0,0.0,46.0,5.0]  |0         |\n",
            "|46.0|29.0   |24.0   | \"N\" |84.0   |20.0   |59.0   | \"W\" | \"Sault Sainte Marie\"| MI     |0.0          |0.0          |44.0           |9.0             |[46.0,29.0,24.0,84.0,20.0,59.0,0.0,0.0,44.0,9.0]  |0         |\n",
            "|27.0|20.0   |24.0   | \"N\" |82.0   |31.0   |47.0   | \"W\" | \"Sarasota\"          | FL     |0.0          |0.0          |43.0           |4.0             |[27.0,20.0,24.0,82.0,31.0,47.0,0.0,0.0,43.0,4.0]  |0         |\n",
            "|33.0|55.0   |11.0   | \"N\" |80.0   |20.0   |59.0   | \"W\" | \"Sumter\"            | SC     |0.0          |0.0          |66.0           |46.0            |[33.0,55.0,11.0,80.0,20.0,59.0,0.0,0.0,66.0,46.0] |0         |\n",
            "|40.0|59.0   |24.0   | \"N\" |75.0   |11.0   |24.0   | \"W\" | \"Stroudsburg\"       | PA     |0.0          |0.0          |65.0           |2.0             |[40.0,59.0,24.0,75.0,11.0,24.0,0.0,0.0,65.0,2.0]  |0         |\n",
            "|39.0|28.0   |12.0   | \"N\" |87.0   |24.0   |36.0   | \"W\" | \"Terre Haute\"       | IN     |0.0          |0.0          |72.0           |8.0             |[39.0,28.0,12.0,87.0,24.0,36.0,0.0,0.0,72.0,8.0]  |0         |\n",
            "|47.0|40.0   |11.0   | \"N\" |117.0  |24.0   |36.0   | \"W\" | \"Spokane\"           | WA     |0.0          |0.0          |59.0           |3.0             |[47.0,40.0,11.0,117.0,24.0,36.0,0.0,0.0,59.0,3.0] |0         |\n",
            "|43.0|32.0   |24.0   | \"N\" |96.0   |43.0   |48.0   | \"W\" | \"Sioux Falls\"       | SD     |0.0          |0.0          |57.0           |18.0            |[43.0,32.0,24.0,96.0,43.0,48.0,0.0,0.0,57.0,18.0] |0         |\n",
            "|27.0|57.0   |0.0    | \"N\" |82.0   |26.0   |59.0   | \"W\" | \"Tampa\"             | FL     |0.0          |0.0          |71.0           |4.0             |[27.0,57.0,0.0,82.0,26.0,59.0,0.0,0.0,71.0,4.0]   |0         |\n",
            "|33.0|38.0   |23.0   | \"N\" |96.0   |36.0   |36.0   | \"W\" | \"Sherman\"           | TX     |0.0          |0.0          |54.0           |1.0             |[33.0,38.0,23.0,96.0,36.0,36.0,0.0,0.0,54.0,1.0]  |0         |\n",
            "|38.0|42.0   |35.0   | \"N\" |93.0   |13.0   |48.0   | \"W\" | \"Sedalia\"           | MO     |0.0          |0.0          |50.0           |10.0            |[38.0,42.0,35.0,93.0,13.0,48.0,0.0,0.0,50.0,10.0] |0         |\n",
            "|30.0|27.0   |0.0    | \"N\" |84.0   |16.0   |47.0   | \"W\" | \"Tallahassee\"       | FL     |0.0          |0.0          |70.0           |4.0             |[30.0,27.0,0.0,84.0,16.0,47.0,0.0,0.0,70.0,4.0]   |0         |\n",
            "|41.0|52.0   |11.0   | \"N\" |103.0  |39.0   |36.0   | \"W\" | \"Scottsbluff\"       | NB     |0.0          |0.0          |47.0           |39.0            |[41.0,52.0,11.0,103.0,39.0,36.0,0.0,0.0,47.0,39.0]|0         |\n",
            "|41.0|5.0    |59.0   | \"N\" |80.0   |39.0   |0.0    | \"W\" | \"Youngstown\"        | OH     |0.0          |0.0          |119.0          |6.0             |[41.0,5.0,59.0,80.0,39.0,0.0,0.0,0.0,119.0,6.0]   |1         |\n",
            "|42.0|16.0   |12.0   | \"N\" |71.0   |48.0   |0.0    | \"W\" | \"Worcester\"         | MA     |0.0          |0.0          |116.0          |21.0            |[42.0,16.0,12.0,71.0,48.0,0.0,0.0,0.0,116.0,21.0] |1         |\n",
            "|41.0|32.0   |59.0   | \"N\" |73.0   |3.0    |0.0    | \"W\" | \"Waterbury\"         | CT     |0.0          |0.0          |98.0           |32.0            |[41.0,32.0,59.0,73.0,3.0,0.0,0.0,0.0,98.0,32.0]   |1         |\n",
            "|43.0|37.0   |48.0   | \"N\" |89.0   |46.0   |11.0   | \"W\" | \"Wisconsin Dells\"   | WI     |0.0          |0.0          |115.0          |12.0            |[43.0,37.0,48.0,89.0,46.0,11.0,0.0,0.0,115.0,12.0]|1         |\n",
            "|40.0|21.0   |36.0   | \"N\" |80.0   |37.0   |12.0   | \"W\" | \"Steubenville\"      | OH     |0.0          |0.0          |62.0           |6.0             |[40.0,21.0,36.0,80.0,37.0,12.0,0.0,0.0,62.0,6.0]  |1         |\n",
            "|33.0|12.0   |35.0   | \"N\" |87.0   |34.0   |11.0   | \"W\" | \"Tuscaloosa\"        | AL     |0.0          |0.0          |83.0           |19.0            |[33.0,12.0,35.0,87.0,34.0,11.0,0.0,0.0,83.0,19.0] |1         |\n",
            "|36.0|5.0    |59.0   | \"N\" |80.0   |15.0   |0.0    | \"W\" | \"Winston-Salem\"     | NC     |0.0          |0.0          |114.0          |17.0            |[36.0,5.0,59.0,80.0,15.0,0.0,0.0,0.0,114.0,17.0]  |1         |\n",
            "|32.0|20.0   |59.0   | \"N\" |95.0   |18.0   |0.0    | \"W\" | \"Tyler\"             | TX     |0.0          |0.0          |85.0           |1.0             |[32.0,20.0,59.0,95.0,18.0,0.0,0.0,0.0,85.0,1.0]   |1         |\n",
            "|34.0|15.0   |35.0   | \"N\" |88.0   |42.0   |35.0   | \"W\" | \"Tupelo\"            | MS     |0.0          |0.0          |82.0           |22.0            |[34.0,15.0,35.0,88.0,42.0,35.0,0.0,0.0,82.0,22.0] |1         |\n",
            "|36.0|9.0    |35.0   | \"N\" |95.0   |54.0   |36.0   | \"W\" | \"Tulsa\"             | OK     |0.0          |0.0          |81.0           |25.0            |[36.0,9.0,35.0,95.0,54.0,36.0,0.0,0.0,81.0,25.0]  |1         |\n",
            "|40.0|4.0    |11.0   | \"N\" |80.0   |43.0   |12.0   | \"W\" | \"Wheeling\"          | WV     |0.0          |0.0          |106.0          |28.0            |[40.0,4.0,11.0,80.0,43.0,12.0,0.0,0.0,106.0,28.0] |1         |\n",
            "|42.0|33.0   |36.0   | \"N\" |114.0  |28.0   |12.0   | \"W\" | \"Twin Falls\"        | ID     |0.0          |0.0          |84.0           |35.0            |[42.0,33.0,36.0,114.0,28.0,12.0,0.0,0.0,84.0,35.0]|1         |\n",
            "+----+-------+-------+-----+-------+-------+-------+-----+---------------------+--------+-------------+-------------+---------------+----------------+--------------------------------------------------+----------+\n",
            "only showing top 30 rows\n",
            "\n"
          ]
        }
      ]
    },
    {
      "cell_type": "code",
      "source": [
        "print(p1.count())\n",
        "dfs.count()"
      ],
      "metadata": {
        "colab": {
          "base_uri": "https://localhost:8080/"
        },
        "id": "aO2ZWmnwL1Wo",
        "outputId": "a56c7b5a-01d5-45b1-8b26-15480a8b50d8"
      },
      "execution_count": null,
      "outputs": [
        {
          "output_type": "stream",
          "name": "stdout",
          "text": [
            "128\n"
          ]
        },
        {
          "output_type": "execute_result",
          "data": {
            "text/plain": [
              "128"
            ]
          },
          "metadata": {},
          "execution_count": 62
        }
      ]
    },
    {
      "cell_type": "code",
      "source": [
        "\n",
        "from pyspark.ml.linalg import Vectors #cosine similarity for two vectors\n",
        "x = Vectors.dense([1,2*2,5])\n",
        "y = Vectors.dense([5,1*2,1])\n",
        "cossim =  x.dot(y)/(x.norm(2)*y.norm(2))\n",
        "print(cossim)"
      ],
      "metadata": {
        "colab": {
          "base_uri": "https://localhost:8080/"
        },
        "id": "yANK1djLdZR5",
        "outputId": "978078de-a87a-4dc2-897d-f2dd7e3f8af9"
      },
      "execution_count": null,
      "outputs": [
        {
          "output_type": "stream",
          "name": "stdout",
          "text": [
            "0.50709255283711\n"
          ]
        }
      ]
    },
    {
      "cell_type": "code",
      "source": [
        "import numpy as np\n",
        "import scipy\n",
        "from scipy.spatial.distance import cosine\n",
        "x = Vectors.dense([1,2,5])\n",
        "y = Vectors.dense([1,2,5])\n",
        "cosine(x,y)"
      ],
      "metadata": {
        "colab": {
          "base_uri": "https://localhost:8080/"
        },
        "id": "iCei2_FYe1Gz",
        "outputId": "1287167a-f8ee-4c39-e1ae-5b2f9ee451e5"
      },
      "execution_count": null,
      "outputs": [
        {
          "output_type": "execute_result",
          "data": {
            "text/plain": [
              "0.0"
            ]
          },
          "metadata": {},
          "execution_count": 14
        }
      ]
    }
  ]
}