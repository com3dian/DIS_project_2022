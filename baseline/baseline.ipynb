{
  "nbformat": 4,
  "nbformat_minor": 0,
  "metadata": {
    "colab": {
      "name": "disproject.ipynb",
      "provenance": [],
      "collapsed_sections": []
    },
    "kernelspec": {
      "name": "python3",
      "display_name": "Python 3"
    },
    "language_info": {
      "name": "python"
    }
  },
  "cells": [
    {
      "cell_type": "markdown",
      "source": [
        "The goal of this work is to implement, and test a method program that divides a dataset to a number of (maybe) overlapping subsets.\n",
        "- Dataset \n",
        "- Distance \n",
        "- Homogeneity\n",
        "- Decomposition\n",
        " - Baseline \n",
        " - Our method"
      ],
      "metadata": {
        "id": "NPrsJbir9BmJ"
      }
    },
    {
      "cell_type": "code",
      "execution_count": null,
      "metadata": {
        "colab": {
          "base_uri": "https://localhost:8080/"
        },
        "id": "Dh6WMC2A7uBj",
        "outputId": "1c8f67dd-e39d-4481-b40c-5fd316140945"
      },
      "outputs": [
        {
          "output_type": "stream",
          "name": "stdout",
          "text": [
            "hello world\n"
          ]
        }
      ],
      "source": [
        "print(\"hello world\")"
      ]
    },
    {
      "cell_type": "code",
      "source": [
        ""
      ],
      "metadata": {
        "id": "Y8Ej9wp9JsPN"
      },
      "execution_count": null,
      "outputs": []
    },
    {
      "cell_type": "code",
      "source": [
        ""
      ],
      "metadata": {
        "id": "9M86O9HELsSH"
      },
      "execution_count": null,
      "outputs": []
    },
    {
      "cell_type": "code",
      "source": [
        ""
      ],
      "metadata": {
        "id": "mCvKGlocL67_"
      },
      "execution_count": null,
      "outputs": []
    },
    {
      "cell_type": "code",
      "source": [
        "# test lu"
      ],
      "metadata": {
        "id": "UDINBcG-8OvD"
      },
      "execution_count": null,
      "outputs": []
    },
    {
      "cell_type": "markdown",
      "source": [
        "The link shared in Blackbord:\n",
        "https://colab.research.google.com/drive/1tvxs0etNUDw1_8Aeu5G6y6qOIBROq-G6?usp=sharing#scrollTo=B7Gj19ZxzJGO\n"
      ],
      "metadata": {
        "id": "7T7ntsFK9-nO"
      }
    },
    {
      "cell_type": "code",
      "source": [
        ""
      ],
      "metadata": {
        "id": "sSLT_J3I_rFO"
      },
      "execution_count": null,
      "outputs": []
    },
    {
      "cell_type": "code",
      "source": [
        "!wget https://dlcdn.apache.org/spark/spark-3.2.1/spark-3.2.1-bin-hadoop3.2.tgz\n",
        "!tar -xvf spark-3.2.1-bin-hadoop3.2.tgz\n",
        "!java -version"
      ],
      "metadata": {
        "id": "XxHPufpd9j3n"
      },
      "execution_count": null,
      "outputs": []
    },
    {
      "cell_type": "code",
      "source": [
        "!pip install findspark"
      ],
      "metadata": {
        "id": "uD10SlM99lR_",
        "colab": {
          "base_uri": "https://localhost:8080/"
        },
        "outputId": "3dd1b1fc-7c22-49a3-be4d-ac1ee8dbf46c"
      },
      "execution_count": 2,
      "outputs": [
        {
          "output_type": "stream",
          "name": "stdout",
          "text": [
            "Looking in indexes: https://pypi.org/simple, https://us-python.pkg.dev/colab-wheels/public/simple/\n",
            "Collecting findspark\n",
            "  Downloading findspark-2.0.1-py2.py3-none-any.whl (4.4 kB)\n",
            "Installing collected packages: findspark\n",
            "Successfully installed findspark-2.0.1\n"
          ]
        }
      ]
    },
    {
      "cell_type": "code",
      "source": [
        "import os \n",
        "os.environ[\"SPARK_HOME\"] = \"/content/spark-3.2.1-bin-hadoop3.2\"\n",
        "import findspark\n",
        "findspark.init()\n",
        "from pyspark.sql import SparkSession"
      ],
      "metadata": {
        "id": "PCwjiBpg9uDd"
      },
      "execution_count": 3,
      "outputs": []
    },
    {
      "cell_type": "code",
      "source": [
        "import findspark\n",
        "findspark.init()\n",
        "from pyspark.sql import SparkSession\n",
        "\n",
        "## You can add more config while building \n",
        "spark = SparkSession.builder.master(\"local[8]\").\\\n",
        "                    config(\"spark.app.name\",\"session_one\").\\\n",
        "                    getOrCreate() #number of threads = 16"
      ],
      "metadata": {
        "id": "z9jyRVV0908W"
      },
      "execution_count": 4,
      "outputs": []
    },
    {
      "cell_type": "code",
      "source": [
        "import pandas as pd"
      ],
      "metadata": {
        "id": "0-jcycMhgc7i"
      },
      "execution_count": 7,
      "outputs": []
    },
    {
      "cell_type": "code",
      "source": [
        "url=\"https://raw.githubusercontent.com/mustafa-majid/disfiles/main/cities.csv\"\n",
        "pdf=pd.read_csv(url)\n",
        "\n",
        "pdf.head(5)"
      ],
      "metadata": {
        "colab": {
          "base_uri": "https://localhost:8080/",
          "height": 206
        },
        "id": "tChHW52sjOCy",
        "outputId": "0b214dc5-31d1-4b70-8849-f87e6edab52e"
      },
      "execution_count": 62,
      "outputs": [
        {
          "output_type": "execute_result",
          "data": {
            "text/plain": [
              "   LatD   \"LatM\"   \"LatS\"  \"NS\"   \"LonD\"   \"LonM\"   \"LonS\"  \"EW\"  \\\n",
              "0    41        5       59   \"N\"       80       39        0   \"W\"   \n",
              "1    42       52       48   \"N\"       97       23       23   \"W\"   \n",
              "2    46       35       59   \"N\"      120       30       36   \"W\"   \n",
              "3    42       16       12   \"N\"       71       48        0   \"W\"   \n",
              "4    43       37       48   \"N\"       89       46       11   \"W\"   \n",
              "\n",
              "               \"City\"  \"State\"  \n",
              "0        \"Youngstown\"       OH  \n",
              "1           \"Yankton\"       SD  \n",
              "2            \"Yakima\"       WA  \n",
              "3         \"Worcester\"       MA  \n",
              "4   \"Wisconsin Dells\"       WI  "
            ],
            "text/html": [
              "\n",
              "  <div id=\"df-06317ab0-cb7c-4364-9af2-89ba400d09bb\">\n",
              "    <div class=\"colab-df-container\">\n",
              "      <div>\n",
              "<style scoped>\n",
              "    .dataframe tbody tr th:only-of-type {\n",
              "        vertical-align: middle;\n",
              "    }\n",
              "\n",
              "    .dataframe tbody tr th {\n",
              "        vertical-align: top;\n",
              "    }\n",
              "\n",
              "    .dataframe thead th {\n",
              "        text-align: right;\n",
              "    }\n",
              "</style>\n",
              "<table border=\"1\" class=\"dataframe\">\n",
              "  <thead>\n",
              "    <tr style=\"text-align: right;\">\n",
              "      <th></th>\n",
              "      <th>LatD</th>\n",
              "      <th>\"LatM\"</th>\n",
              "      <th>\"LatS\"</th>\n",
              "      <th>\"NS\"</th>\n",
              "      <th>\"LonD\"</th>\n",
              "      <th>\"LonM\"</th>\n",
              "      <th>\"LonS\"</th>\n",
              "      <th>\"EW\"</th>\n",
              "      <th>\"City\"</th>\n",
              "      <th>\"State\"</th>\n",
              "    </tr>\n",
              "  </thead>\n",
              "  <tbody>\n",
              "    <tr>\n",
              "      <th>0</th>\n",
              "      <td>41</td>\n",
              "      <td>5</td>\n",
              "      <td>59</td>\n",
              "      <td>\"N\"</td>\n",
              "      <td>80</td>\n",
              "      <td>39</td>\n",
              "      <td>0</td>\n",
              "      <td>\"W\"</td>\n",
              "      <td>\"Youngstown\"</td>\n",
              "      <td>OH</td>\n",
              "    </tr>\n",
              "    <tr>\n",
              "      <th>1</th>\n",
              "      <td>42</td>\n",
              "      <td>52</td>\n",
              "      <td>48</td>\n",
              "      <td>\"N\"</td>\n",
              "      <td>97</td>\n",
              "      <td>23</td>\n",
              "      <td>23</td>\n",
              "      <td>\"W\"</td>\n",
              "      <td>\"Yankton\"</td>\n",
              "      <td>SD</td>\n",
              "    </tr>\n",
              "    <tr>\n",
              "      <th>2</th>\n",
              "      <td>46</td>\n",
              "      <td>35</td>\n",
              "      <td>59</td>\n",
              "      <td>\"N\"</td>\n",
              "      <td>120</td>\n",
              "      <td>30</td>\n",
              "      <td>36</td>\n",
              "      <td>\"W\"</td>\n",
              "      <td>\"Yakima\"</td>\n",
              "      <td>WA</td>\n",
              "    </tr>\n",
              "    <tr>\n",
              "      <th>3</th>\n",
              "      <td>42</td>\n",
              "      <td>16</td>\n",
              "      <td>12</td>\n",
              "      <td>\"N\"</td>\n",
              "      <td>71</td>\n",
              "      <td>48</td>\n",
              "      <td>0</td>\n",
              "      <td>\"W\"</td>\n",
              "      <td>\"Worcester\"</td>\n",
              "      <td>MA</td>\n",
              "    </tr>\n",
              "    <tr>\n",
              "      <th>4</th>\n",
              "      <td>43</td>\n",
              "      <td>37</td>\n",
              "      <td>48</td>\n",
              "      <td>\"N\"</td>\n",
              "      <td>89</td>\n",
              "      <td>46</td>\n",
              "      <td>11</td>\n",
              "      <td>\"W\"</td>\n",
              "      <td>\"Wisconsin Dells\"</td>\n",
              "      <td>WI</td>\n",
              "    </tr>\n",
              "  </tbody>\n",
              "</table>\n",
              "</div>\n",
              "      <button class=\"colab-df-convert\" onclick=\"convertToInteractive('df-06317ab0-cb7c-4364-9af2-89ba400d09bb')\"\n",
              "              title=\"Convert this dataframe to an interactive table.\"\n",
              "              style=\"display:none;\">\n",
              "        \n",
              "  <svg xmlns=\"http://www.w3.org/2000/svg\" height=\"24px\"viewBox=\"0 0 24 24\"\n",
              "       width=\"24px\">\n",
              "    <path d=\"M0 0h24v24H0V0z\" fill=\"none\"/>\n",
              "    <path d=\"M18.56 5.44l.94 2.06.94-2.06 2.06-.94-2.06-.94-.94-2.06-.94 2.06-2.06.94zm-11 1L8.5 8.5l.94-2.06 2.06-.94-2.06-.94L8.5 2.5l-.94 2.06-2.06.94zm10 10l.94 2.06.94-2.06 2.06-.94-2.06-.94-.94-2.06-.94 2.06-2.06.94z\"/><path d=\"M17.41 7.96l-1.37-1.37c-.4-.4-.92-.59-1.43-.59-.52 0-1.04.2-1.43.59L10.3 9.45l-7.72 7.72c-.78.78-.78 2.05 0 2.83L4 21.41c.39.39.9.59 1.41.59.51 0 1.02-.2 1.41-.59l7.78-7.78 2.81-2.81c.8-.78.8-2.07 0-2.86zM5.41 20L4 18.59l7.72-7.72 1.47 1.35L5.41 20z\"/>\n",
              "  </svg>\n",
              "      </button>\n",
              "      \n",
              "  <style>\n",
              "    .colab-df-container {\n",
              "      display:flex;\n",
              "      flex-wrap:wrap;\n",
              "      gap: 12px;\n",
              "    }\n",
              "\n",
              "    .colab-df-convert {\n",
              "      background-color: #E8F0FE;\n",
              "      border: none;\n",
              "      border-radius: 50%;\n",
              "      cursor: pointer;\n",
              "      display: none;\n",
              "      fill: #1967D2;\n",
              "      height: 32px;\n",
              "      padding: 0 0 0 0;\n",
              "      width: 32px;\n",
              "    }\n",
              "\n",
              "    .colab-df-convert:hover {\n",
              "      background-color: #E2EBFA;\n",
              "      box-shadow: 0px 1px 2px rgba(60, 64, 67, 0.3), 0px 1px 3px 1px rgba(60, 64, 67, 0.15);\n",
              "      fill: #174EA6;\n",
              "    }\n",
              "\n",
              "    [theme=dark] .colab-df-convert {\n",
              "      background-color: #3B4455;\n",
              "      fill: #D2E3FC;\n",
              "    }\n",
              "\n",
              "    [theme=dark] .colab-df-convert:hover {\n",
              "      background-color: #434B5C;\n",
              "      box-shadow: 0px 1px 3px 1px rgba(0, 0, 0, 0.15);\n",
              "      filter: drop-shadow(0px 1px 2px rgba(0, 0, 0, 0.3));\n",
              "      fill: #FFFFFF;\n",
              "    }\n",
              "  </style>\n",
              "\n",
              "      <script>\n",
              "        const buttonEl =\n",
              "          document.querySelector('#df-06317ab0-cb7c-4364-9af2-89ba400d09bb button.colab-df-convert');\n",
              "        buttonEl.style.display =\n",
              "          google.colab.kernel.accessAllowed ? 'block' : 'none';\n",
              "\n",
              "        async function convertToInteractive(key) {\n",
              "          const element = document.querySelector('#df-06317ab0-cb7c-4364-9af2-89ba400d09bb');\n",
              "          const dataTable =\n",
              "            await google.colab.kernel.invokeFunction('convertToInteractive',\n",
              "                                                     [key], {});\n",
              "          if (!dataTable) return;\n",
              "\n",
              "          const docLinkHtml = 'Like what you see? Visit the ' +\n",
              "            '<a target=\"_blank\" href=https://colab.research.google.com/notebooks/data_table.ipynb>data table notebook</a>'\n",
              "            + ' to learn more about interactive tables.';\n",
              "          element.innerHTML = '';\n",
              "          dataTable['output_type'] = 'display_data';\n",
              "          await google.colab.output.renderOutput(dataTable, element);\n",
              "          const docLink = document.createElement('div');\n",
              "          docLink.innerHTML = docLinkHtml;\n",
              "          element.appendChild(docLink);\n",
              "        }\n",
              "      </script>\n",
              "    </div>\n",
              "  </div>\n",
              "  "
            ]
          },
          "metadata": {},
          "execution_count": 62
        }
      ]
    },
    {
      "cell_type": "code",
      "source": [
        "p2=pd.read_csv(url).drop_duplicates()"
      ],
      "metadata": {
        "id": "v2bAfYU1jYX6"
      },
      "execution_count": 67,
      "outputs": []
    },
    {
      "cell_type": "code",
      "source": [
        "p2.head(5)"
      ],
      "metadata": {
        "colab": {
          "base_uri": "https://localhost:8080/",
          "height": 206
        },
        "id": "9mE2vdYrsmbX",
        "outputId": "377d5e48-c9ef-41e5-a1d9-f2c41ecb96cc"
      },
      "execution_count": 68,
      "outputs": [
        {
          "output_type": "execute_result",
          "data": {
            "text/plain": [
              "   LatD   \"LatM\"   \"LatS\"  \"NS\"   \"LonD\"   \"LonM\"   \"LonS\"  \"EW\"  \\\n",
              "0    41        5       59   \"N\"       80       39        0   \"W\"   \n",
              "1    42       52       48   \"N\"       97       23       23   \"W\"   \n",
              "2    46       35       59   \"N\"      120       30       36   \"W\"   \n",
              "3    42       16       12   \"N\"       71       48        0   \"W\"   \n",
              "4    43       37       48   \"N\"       89       46       11   \"W\"   \n",
              "\n",
              "               \"City\"  \"State\"  \n",
              "0        \"Youngstown\"       OH  \n",
              "1           \"Yankton\"       SD  \n",
              "2            \"Yakima\"       WA  \n",
              "3         \"Worcester\"       MA  \n",
              "4   \"Wisconsin Dells\"       WI  "
            ],
            "text/html": [
              "\n",
              "  <div id=\"df-4aa31c10-88ee-403b-ab53-10b40d48d7b8\">\n",
              "    <div class=\"colab-df-container\">\n",
              "      <div>\n",
              "<style scoped>\n",
              "    .dataframe tbody tr th:only-of-type {\n",
              "        vertical-align: middle;\n",
              "    }\n",
              "\n",
              "    .dataframe tbody tr th {\n",
              "        vertical-align: top;\n",
              "    }\n",
              "\n",
              "    .dataframe thead th {\n",
              "        text-align: right;\n",
              "    }\n",
              "</style>\n",
              "<table border=\"1\" class=\"dataframe\">\n",
              "  <thead>\n",
              "    <tr style=\"text-align: right;\">\n",
              "      <th></th>\n",
              "      <th>LatD</th>\n",
              "      <th>\"LatM\"</th>\n",
              "      <th>\"LatS\"</th>\n",
              "      <th>\"NS\"</th>\n",
              "      <th>\"LonD\"</th>\n",
              "      <th>\"LonM\"</th>\n",
              "      <th>\"LonS\"</th>\n",
              "      <th>\"EW\"</th>\n",
              "      <th>\"City\"</th>\n",
              "      <th>\"State\"</th>\n",
              "    </tr>\n",
              "  </thead>\n",
              "  <tbody>\n",
              "    <tr>\n",
              "      <th>0</th>\n",
              "      <td>41</td>\n",
              "      <td>5</td>\n",
              "      <td>59</td>\n",
              "      <td>\"N\"</td>\n",
              "      <td>80</td>\n",
              "      <td>39</td>\n",
              "      <td>0</td>\n",
              "      <td>\"W\"</td>\n",
              "      <td>\"Youngstown\"</td>\n",
              "      <td>OH</td>\n",
              "    </tr>\n",
              "    <tr>\n",
              "      <th>1</th>\n",
              "      <td>42</td>\n",
              "      <td>52</td>\n",
              "      <td>48</td>\n",
              "      <td>\"N\"</td>\n",
              "      <td>97</td>\n",
              "      <td>23</td>\n",
              "      <td>23</td>\n",
              "      <td>\"W\"</td>\n",
              "      <td>\"Yankton\"</td>\n",
              "      <td>SD</td>\n",
              "    </tr>\n",
              "    <tr>\n",
              "      <th>2</th>\n",
              "      <td>46</td>\n",
              "      <td>35</td>\n",
              "      <td>59</td>\n",
              "      <td>\"N\"</td>\n",
              "      <td>120</td>\n",
              "      <td>30</td>\n",
              "      <td>36</td>\n",
              "      <td>\"W\"</td>\n",
              "      <td>\"Yakima\"</td>\n",
              "      <td>WA</td>\n",
              "    </tr>\n",
              "    <tr>\n",
              "      <th>3</th>\n",
              "      <td>42</td>\n",
              "      <td>16</td>\n",
              "      <td>12</td>\n",
              "      <td>\"N\"</td>\n",
              "      <td>71</td>\n",
              "      <td>48</td>\n",
              "      <td>0</td>\n",
              "      <td>\"W\"</td>\n",
              "      <td>\"Worcester\"</td>\n",
              "      <td>MA</td>\n",
              "    </tr>\n",
              "    <tr>\n",
              "      <th>4</th>\n",
              "      <td>43</td>\n",
              "      <td>37</td>\n",
              "      <td>48</td>\n",
              "      <td>\"N\"</td>\n",
              "      <td>89</td>\n",
              "      <td>46</td>\n",
              "      <td>11</td>\n",
              "      <td>\"W\"</td>\n",
              "      <td>\"Wisconsin Dells\"</td>\n",
              "      <td>WI</td>\n",
              "    </tr>\n",
              "  </tbody>\n",
              "</table>\n",
              "</div>\n",
              "      <button class=\"colab-df-convert\" onclick=\"convertToInteractive('df-4aa31c10-88ee-403b-ab53-10b40d48d7b8')\"\n",
              "              title=\"Convert this dataframe to an interactive table.\"\n",
              "              style=\"display:none;\">\n",
              "        \n",
              "  <svg xmlns=\"http://www.w3.org/2000/svg\" height=\"24px\"viewBox=\"0 0 24 24\"\n",
              "       width=\"24px\">\n",
              "    <path d=\"M0 0h24v24H0V0z\" fill=\"none\"/>\n",
              "    <path d=\"M18.56 5.44l.94 2.06.94-2.06 2.06-.94-2.06-.94-.94-2.06-.94 2.06-2.06.94zm-11 1L8.5 8.5l.94-2.06 2.06-.94-2.06-.94L8.5 2.5l-.94 2.06-2.06.94zm10 10l.94 2.06.94-2.06 2.06-.94-2.06-.94-.94-2.06-.94 2.06-2.06.94z\"/><path d=\"M17.41 7.96l-1.37-1.37c-.4-.4-.92-.59-1.43-.59-.52 0-1.04.2-1.43.59L10.3 9.45l-7.72 7.72c-.78.78-.78 2.05 0 2.83L4 21.41c.39.39.9.59 1.41.59.51 0 1.02-.2 1.41-.59l7.78-7.78 2.81-2.81c.8-.78.8-2.07 0-2.86zM5.41 20L4 18.59l7.72-7.72 1.47 1.35L5.41 20z\"/>\n",
              "  </svg>\n",
              "      </button>\n",
              "      \n",
              "  <style>\n",
              "    .colab-df-container {\n",
              "      display:flex;\n",
              "      flex-wrap:wrap;\n",
              "      gap: 12px;\n",
              "    }\n",
              "\n",
              "    .colab-df-convert {\n",
              "      background-color: #E8F0FE;\n",
              "      border: none;\n",
              "      border-radius: 50%;\n",
              "      cursor: pointer;\n",
              "      display: none;\n",
              "      fill: #1967D2;\n",
              "      height: 32px;\n",
              "      padding: 0 0 0 0;\n",
              "      width: 32px;\n",
              "    }\n",
              "\n",
              "    .colab-df-convert:hover {\n",
              "      background-color: #E2EBFA;\n",
              "      box-shadow: 0px 1px 2px rgba(60, 64, 67, 0.3), 0px 1px 3px 1px rgba(60, 64, 67, 0.15);\n",
              "      fill: #174EA6;\n",
              "    }\n",
              "\n",
              "    [theme=dark] .colab-df-convert {\n",
              "      background-color: #3B4455;\n",
              "      fill: #D2E3FC;\n",
              "    }\n",
              "\n",
              "    [theme=dark] .colab-df-convert:hover {\n",
              "      background-color: #434B5C;\n",
              "      box-shadow: 0px 1px 3px 1px rgba(0, 0, 0, 0.15);\n",
              "      filter: drop-shadow(0px 1px 2px rgba(0, 0, 0, 0.3));\n",
              "      fill: #FFFFFF;\n",
              "    }\n",
              "  </style>\n",
              "\n",
              "      <script>\n",
              "        const buttonEl =\n",
              "          document.querySelector('#df-4aa31c10-88ee-403b-ab53-10b40d48d7b8 button.colab-df-convert');\n",
              "        buttonEl.style.display =\n",
              "          google.colab.kernel.accessAllowed ? 'block' : 'none';\n",
              "\n",
              "        async function convertToInteractive(key) {\n",
              "          const element = document.querySelector('#df-4aa31c10-88ee-403b-ab53-10b40d48d7b8');\n",
              "          const dataTable =\n",
              "            await google.colab.kernel.invokeFunction('convertToInteractive',\n",
              "                                                     [key], {});\n",
              "          if (!dataTable) return;\n",
              "\n",
              "          const docLinkHtml = 'Like what you see? Visit the ' +\n",
              "            '<a target=\"_blank\" href=https://colab.research.google.com/notebooks/data_table.ipynb>data table notebook</a>'\n",
              "            + ' to learn more about interactive tables.';\n",
              "          element.innerHTML = '';\n",
              "          dataTable['output_type'] = 'display_data';\n",
              "          await google.colab.output.renderOutput(dataTable, element);\n",
              "          const docLink = document.createElement('div');\n",
              "          docLink.innerHTML = docLinkHtml;\n",
              "          element.appendChild(docLink);\n",
              "        }\n",
              "      </script>\n",
              "    </div>\n",
              "  </div>\n",
              "  "
            ]
          },
          "metadata": {},
          "execution_count": 68
        }
      ]
    },
    {
      "cell_type": "code",
      "source": [
        "import urllib.request\n",
        "import string\n",
        "file = urllib.request.urlopen(url)\n",
        "print(type(file))\n",
        "li=[]\n",
        "for line in file:\n",
        "  s = line.decode(\"utf-8\").translate(str.maketrans('', '', string.punctuation))\n",
        "   \n",
        "  li.append(\" \".join(s.split()))\n",
        "\n",
        "li.pop(0)\n",
        "print(li[2])\n",
        "print(type(li[2]))"
      ],
      "metadata": {
        "colab": {
          "base_uri": "https://localhost:8080/"
        },
        "id": "yPlVkx-_jjWP",
        "outputId": "3bfae3c7-e600-4847-ceed-5eff46df4272"
      },
      "execution_count": 120,
      "outputs": [
        {
          "output_type": "stream",
          "name": "stdout",
          "text": [
            "<class 'http.client.HTTPResponse'>\n",
            "46 35 59 N 120 30 36 W Yakima WA\n",
            "<class 'str'>\n"
          ]
        }
      ]
    },
    {
      "cell_type": "code",
      "source": [
        "from pyspark.ml.evaluation import ClusteringEvaluator\n",
        "from pyspark.sql import SQLContext, SparkSession\n",
        "from pyspark import SparkConf, SparkContext\n",
        "from pyspark.ml.clustering import KMeans\n",
        "from pyspark.ml.feature import Word2Vec\n",
        "from pyspark.sql.functions import *"
      ],
      "metadata": {
        "id": "MaHm_vQJouXS"
      },
      "execution_count": 36,
      "outputs": []
    },
    {
      "cell_type": "code",
      "source": [
        "from pyspark.sql import Row\n",
        "\n",
        "rdd1 = sc.parallelize(li)\n",
        "row_rdd = rdd1.map(lambda x: Row(x))\n",
        "df=sqlContext.createDataFrame(row_rdd,['words'])\n",
        "df.show(50,False)"
      ],
      "metadata": {
        "colab": {
          "base_uri": "https://localhost:8080/"
        },
        "id": "ouSRrwbsjq0H",
        "outputId": "6518dd84-b8f1-4f50-82a2-874f3477dbbe"
      },
      "execution_count": 122,
      "outputs": [
        {
          "output_type": "stream",
          "name": "stdout",
          "text": [
            "+----------------------------------------+\n",
            "|words                                   |\n",
            "+----------------------------------------+\n",
            "|41 5 59 N 80 39 0 W Youngstown OH       |\n",
            "|42 52 48 N 97 23 23 W Yankton SD        |\n",
            "|46 35 59 N 120 30 36 W Yakima WA        |\n",
            "|42 16 12 N 71 48 0 W Worcester MA       |\n",
            "|43 37 48 N 89 46 11 W Wisconsin Dells WI|\n",
            "|36 5 59 N 80 15 0 W WinstonSalem NC     |\n",
            "|49 52 48 N 97 9 0 W Winnipeg MB         |\n",
            "|39 11 23 N 78 9 36 W Winchester VA      |\n",
            "|34 14 24 N 77 55 11 W Wilmington NC     |\n",
            "|39 45 0 N 75 33 0 W Wilmington DE       |\n",
            "|48 9 0 N 103 37 12 W Williston ND       |\n",
            "|41 15 0 N 77 0 0 W Williamsport PA      |\n",
            "|37 40 48 N 82 16 47 W Williamson WV     |\n",
            "|33 54 0 N 98 29 23 W Wichita Falls TX   |\n",
            "|37 41 23 N 97 20 23 W Wichita KS        |\n",
            "|40 4 11 N 80 43 12 W Wheeling WV        |\n",
            "|26 43 11 N 80 3 0 W West Palm Beach FL  |\n",
            "|47 25 11 N 120 19 11 W Wenatchee WA     |\n",
            "|41 25 11 N 122 23 23 W Weed CA          |\n",
            "|31 13 11 N 82 20 59 W Waycross GA       |\n",
            "|44 57 35 N 89 38 23 W Wausau WI         |\n",
            "|42 21 36 N 87 49 48 W Waukegan IL       |\n",
            "|44 54 0 N 97 6 36 W Watertown SD        |\n",
            "|43 58 47 N 75 55 11 W Watertown NY      |\n",
            "|42 30 0 N 92 20 23 W Waterloo IA        |\n",
            "|41 32 59 N 73 3 0 W Waterbury CT        |\n",
            "|38 53 23 N 77 1 47 W Washington DC      |\n",
            "|41 50 59 N 79 8 23 W Warren PA          |\n",
            "|46 4 11 N 118 19 48 W Walla Walla WA    |\n",
            "|31 32 59 N 97 8 23 W Waco TX            |\n",
            "|38 40 48 N 87 31 47 W Vincennes IN      |\n",
            "|28 48 35 N 97 0 36 W Victoria TX        |\n",
            "|32 20 59 N 90 52 47 W Vicksburg MS      |\n",
            "|49 16 12 N 123 7 12 W Vancouver BC      |\n",
            "|46 55 11 N 98 0 36 W Valley City ND     |\n",
            "|30 49 47 N 83 16 47 W Valdosta GA       |\n",
            "|43 6 36 N 75 13 48 W Utica NY           |\n",
            "|39 54 0 N 79 43 48 W Uniontown PA       |\n",
            "|32 20 59 N 95 18 0 W Tyler TX           |\n",
            "|42 33 36 N 114 28 12 W Twin Falls ID    |\n",
            "|33 12 35 N 87 34 11 W Tuscaloosa AL     |\n",
            "|34 15 35 N 88 42 35 W Tupelo MS         |\n",
            "|36 9 35 N 95 54 36 W Tulsa OK           |\n",
            "|32 13 12 N 110 58 12 W Tucson AZ        |\n",
            "|37 10 11 N 104 30 36 W Trinidad CO      |\n",
            "|40 13 47 N 74 46 11 W Trenton NJ        |\n",
            "|44 45 35 N 85 37 47 W Traverse City MI  |\n",
            "|43 39 0 N 79 22 47 W Toronto ON         |\n",
            "|39 2 59 N 95 40 11 W Topeka KS          |\n",
            "|41 39 0 N 83 32 24 W Toledo OH          |\n",
            "+----------------------------------------+\n",
            "only showing top 50 rows\n",
            "\n"
          ]
        }
      ]
    },
    {
      "cell_type": "code",
      "source": [
        "df2 = df.withColumn(\"text_splitted\", split(lower(col(\"words\")), \" \"))"
      ],
      "metadata": {
        "id": "ckmk4btg0cGV"
      },
      "execution_count": 123,
      "outputs": []
    },
    {
      "cell_type": "code",
      "source": [
        "df2.show(20)"
      ],
      "metadata": {
        "colab": {
          "base_uri": "https://localhost:8080/"
        },
        "id": "nGmcIrI2Gfeb",
        "outputId": "ee4bf466-d0ba-4194-9274-db8b98d5379d"
      },
      "execution_count": 153,
      "outputs": [
        {
          "output_type": "stream",
          "name": "stdout",
          "text": [
            "+--------------------+--------------------+\n",
            "|               words|       text_splitted|\n",
            "+--------------------+--------------------+\n",
            "|41 5 59 N 80 39 0...|[41, 5, 59, n, 80...|\n",
            "|42 52 48 N 97 23 ...|[42, 52, 48, n, 9...|\n",
            "|46 35 59 N 120 30...|[46, 35, 59, n, 1...|\n",
            "|42 16 12 N 71 48 ...|[42, 16, 12, n, 7...|\n",
            "|43 37 48 N 89 46 ...|[43, 37, 48, n, 8...|\n",
            "|36 5 59 N 80 15 0...|[36, 5, 59, n, 80...|\n",
            "|49 52 48 N 97 9 0...|[49, 52, 48, n, 9...|\n",
            "|39 11 23 N 78 9 3...|[39, 11, 23, n, 7...|\n",
            "|34 14 24 N 77 55 ...|[34, 14, 24, n, 7...|\n",
            "|39 45 0 N 75 33 0...|[39, 45, 0, n, 75...|\n",
            "|48 9 0 N 103 37 1...|[48, 9, 0, n, 103...|\n",
            "|41 15 0 N 77 0 0 ...|[41, 15, 0, n, 77...|\n",
            "|37 40 48 N 82 16 ...|[37, 40, 48, n, 8...|\n",
            "|33 54 0 N 98 29 2...|[33, 54, 0, n, 98...|\n",
            "|37 41 23 N 97 20 ...|[37, 41, 23, n, 9...|\n",
            "|40 4 11 N 80 43 1...|[40, 4, 11, n, 80...|\n",
            "|26 43 11 N 80 3 0...|[26, 43, 11, n, 8...|\n",
            "|47 25 11 N 120 19...|[47, 25, 11, n, 1...|\n",
            "|41 25 11 N 122 23...|[41, 25, 11, n, 1...|\n",
            "|31 13 11 N 82 20 ...|[31, 13, 11, n, 8...|\n",
            "+--------------------+--------------------+\n",
            "only showing top 20 rows\n",
            "\n"
          ]
        }
      ]
    },
    {
      "cell_type": "code",
      "source": [
        "word2Vec = Word2Vec( minCount=0, maxIter=100, inputCol=\"text_splitted\", outputCol=\"features\")\n",
        "model = word2Vec.fit(df2)"
      ],
      "metadata": {
        "id": "rcK25jz9G2TU"
      },
      "execution_count": 126,
      "outputs": []
    },
    {
      "cell_type": "code",
      "source": [
        "result = model.transform(df2)"
      ],
      "metadata": {
        "id": "ymybcCtaHJd3"
      },
      "execution_count": 128,
      "outputs": []
    },
    {
      "cell_type": "code",
      "source": [
        "numIterations = 300\n",
        "numberClusters = 30\n",
        "kmeans = KMeans().setMaxIter(numIterations).setK(numberClusters).setSeed(1)\n",
        "kmeans_model = kmeans.fit(result)"
      ],
      "metadata": {
        "id": "kExZKVWDHMjh"
      },
      "execution_count": 167,
      "outputs": []
    },
    {
      "cell_type": "code",
      "source": [
        "from pyspark.sql.functions import col\n",
        "\n",
        "predictions = kmeans_model.transform(result)\n",
        "predictions=predictions.orderBy(predictions.prediction.desc())\n",
        "predictions = predictions.drop(col(\"features\"))\n",
        "predictions = predictions.drop(col(\"text_splitted\"))\n",
        "predictions.show(100,False)\n"
      ],
      "metadata": {
        "colab": {
          "base_uri": "https://localhost:8080/"
        },
        "id": "QN5joz1yHOYs",
        "outputId": "c32c4093-43de-4294-8967-c3639cfd691b"
      },
      "execution_count": 171,
      "outputs": [
        {
          "output_type": "stream",
          "name": "stdout",
          "text": [
            "+----------------------------------------+----------+\n",
            "|words                                   |prediction|\n",
            "+----------------------------------------+----------+\n",
            "|47 25 11 N 120 19 11 W Wenatchee WA     |29        |\n",
            "|46 4 11 N 118 19 48 W Walla Walla WA    |29        |\n",
            "|36 9 35 N 95 54 36 W Tulsa OK           |28        |\n",
            "|43 9 35 N 77 36 36 W Rochester NY       |28        |\n",
            "|43 2 59 N 76 9 0 W Syracuse NY          |28        |\n",
            "|39 11 23 N 78 9 36 W Winchester VA      |28        |\n",
            "|43 6 36 N 75 13 48 W Utica NY           |28        |\n",
            "|43 58 47 N 75 55 11 W Watertown NY      |28        |\n",
            "|40 45 35 N 111 52 47 W Salt Lake City UT|27        |\n",
            "|44 45 35 N 85 37 47 W Traverse City MI  |27        |\n",
            "|38 46 12 N 112 5 23 W Richfield UT      |26        |\n",
            "|42 49 11 N 73 56 59 W Schenectady NY    |25        |\n",
            "|38 22 11 N 75 35 59 W Salisbury MD      |25        |\n",
            "|37 32 24 N 77 26 59 W Richmond VA       |25        |\n",
            "|37 16 12 N 79 56 24 W Roanoke VA        |25        |\n",
            "|43 32 24 N 96 43 48 W Sioux Falls SD    |24        |\n",
            "|35 13 47 N 96 40 48 W Seminole OK       |24        |\n",
            "|47 14 24 N 122 25 48 W Tacoma WA        |23        |\n",
            "|40 10 48 N 122 14 23 W Red Bluff CA     |23        |\n",
            "|29 53 23 N 81 19 11 W Saint Augustine FL|23        |\n",
            "|47 35 59 N 122 19 48 W Seattle WA       |23        |\n",
            "|41 39 0 N 83 32 24 W Toledo OH          |22        |\n",
            "|34 14 24 N 77 55 11 W Wilmington NC     |22        |\n",
            "|41 40 48 N 86 15 0 W South Bend IN      |22        |\n",
            "|39 55 11 N 83 48 35 W Springfield OH    |22        |\n",
            "|41 15 0 N 77 0 0 W Williamsport PA      |22        |\n",
            "|39 31 12 N 119 48 35 W Reno NV          |22        |\n",
            "|35 56 23 N 77 48 0 W Rocky Mount NC     |22        |\n",
            "|41 35 24 N 109 13 48 W Rock Springs WY  |21        |\n",
            "|50 25 11 N 104 39 0 W Regina SA         |20        |\n",
            "|33 25 48 N 94 3 0 W Texarkana TX        |20        |\n",
            "|39 45 0 N 75 33 0 W Wilmington DE       |20        |\n",
            "|45 34 11 N 94 10 11 W Saint Cloud MN    |20        |\n",
            "|36 40 11 N 121 39 0 W Salinas CA        |20        |\n",
            "|38 31 47 N 106 0 0 W Salida CO          |19        |\n",
            "|41 27 0 N 82 42 35 W Sandusky OH        |19        |\n",
            "|34 15 35 N 88 42 35 W Tupelo MS         |19        |\n",
            "|44 57 0 N 93 5 59 W Saint Paul MN       |19        |\n",
            "|32 30 35 N 93 45 0 W Shreveport LA      |19        |\n",
            "|39 46 12 N 94 50 23 W Saint Joseph MO   |18        |\n",
            "|42 5 59 N 86 28 48 W Saint Joseph MI    |18        |\n",
            "|42 29 24 N 96 23 23 W Sioux City IA     |17        |\n",
            "|32 4 48 N 81 5 23 W Savannah GA         |17        |\n",
            "|42 52 48 N 97 23 23 W Yankton SD        |17        |\n",
            "|37 41 23 N 97 20 23 W Wichita KS        |17        |\n",
            "|32 35 59 N 82 20 23 W Swainsboro GA     |17        |\n",
            "|31 32 59 N 97 8 23 W Waco TX            |17        |\n",
            "|42 30 0 N 92 20 23 W Waterloo IA        |17        |\n",
            "|38 9 0 N 79 4 11 W Staunton VA          |16        |\n",
            "|43 39 0 N 79 22 47 W Toronto ON         |16        |\n",
            "|41 50 59 N 79 8 23 W Warren PA          |16        |\n",
            "|39 54 0 N 79 43 48 W Uniontown PA       |16        |\n",
            "|44 1 12 N 92 27 35 W Rochester MN       |15        |\n",
            "|44 47 59 N 106 57 35 W Sheridan WY      |15        |\n",
            "|47 40 11 N 117 24 36 W Spokane WA       |14        |\n",
            "|46 35 59 N 120 30 36 W Yakima WA        |14        |\n",
            "|37 10 11 N 104 30 36 W Trinidad CO      |14        |\n",
            "|33 38 23 N 96 36 36 W Sherman TX        |13        |\n",
            "|33 54 0 N 98 29 23 W Wichita Falls TX   |13        |\n",
            "|38 50 24 N 97 36 36 W Salina KS         |13        |\n",
            "|28 48 35 N 97 0 36 W Victoria TX        |13        |\n",
            "|44 54 0 N 97 6 36 W Watertown SD        |13        |\n",
            "|46 55 11 N 98 0 36 W Valley City ND     |13        |\n",
            "|49 52 48 N 97 9 0 W Winnipeg MB         |13        |\n",
            "|32 20 59 N 90 52 47 W Vicksburg MS      |12        |\n",
            "|39 28 12 N 87 24 36 W Terre Haute IN    |11        |\n",
            "|33 24 0 N 104 31 47 W Roswell NM        |11        |\n",
            "|39 49 48 N 84 53 23 W Richmond IN       |11        |\n",
            "|38 40 48 N 87 31 47 W Vincennes IN      |11        |\n",
            "|30 49 47 N 83 16 47 W Valdosta GA       |11        |\n",
            "|43 37 48 N 89 46 11 W Wisconsin Dells WI|10        |\n",
            "|44 25 11 N 72 1 11 W Saint Johnsbury VT |10        |\n",
            "|45 38 23 N 89 25 11 W Rhinelander WI    |10        |\n",
            "|44 31 12 N 89 34 11 W Stevens Point WI  |10        |\n",
            "|32 25 11 N 87 1 11 W Selma AL           |10        |\n",
            "|33 12 35 N 87 34 11 W Tuscaloosa AL     |10        |\n",
            "|44 57 35 N 89 38 23 W Wausau WI         |10        |\n",
            "|42 5 59 N 72 35 23 W Springfield MA     |9         |\n",
            "|42 16 12 N 89 5 59 W Rockford IL        |9         |\n",
            "|42 16 12 N 71 48 0 W Worcester MA       |9         |\n",
            "|39 47 59 N 89 39 0 W Springfield IL     |9         |\n",
            "|31 27 35 N 100 26 24 W San Angelo TX    |8         |\n",
            "|32 20 59 N 95 18 0 W Tyler TX           |8         |\n",
            "|32 42 35 N 117 9 0 W San Diego CA       |8         |\n",
            "|27 57 0 N 82 26 59 W Tampa FL           |8         |\n",
            "|34 6 36 N 117 18 35 W San Bernardino CA |8         |\n",
            "|29 25 12 N 98 30 0 W San Antonio TX     |8         |\n",
            "|30 27 0 N 84 16 47 W Tallahassee FL     |8         |\n",
            "|27 20 24 N 82 31 47 W Sarasota FL       |8         |\n",
            "|41 9 35 N 81 14 23 W Ravenna OH         |7         |\n",
            "|37 46 47 N 122 25 11 W San Francisco CA |7         |\n",
            "|41 25 11 N 122 23 23 W Weed CA          |7         |\n",
            "|38 26 23 N 122 43 12 W Santa Rosa CA    |7         |\n",
            "|44 56 23 N 123 1 47 W Salem OR          |6         |\n",
            "|49 16 12 N 123 7 12 W Vancouver BC      |6         |\n",
            "|38 53 23 N 77 1 47 W Washington DC      |6         |\n",
            "|43 25 48 N 83 56 24 W Saginaw MI        |5         |\n",
            "|34 25 11 N 119 41 59 W Santa Barbara CA |5         |\n",
            "|35 40 48 N 105 56 59 W Santa Fe NM      |5         |\n",
            "|40 4 11 N 80 43 12 W Wheeling WV        |4         |\n",
            "+----------------------------------------+----------+\n",
            "only showing top 100 rows\n",
            "\n"
          ]
        }
      ]
    },
    {
      "cell_type": "code",
      "source": [
        "model.getVectors().show(20,False)"
      ],
      "metadata": {
        "colab": {
          "base_uri": "https://localhost:8080/"
        },
        "id": "I8-05cDxOZAl",
        "outputId": "104e2218-40bc-4809-8a73-6f265c3077e2"
      },
      "execution_count": 170,
      "outputs": [
        {
          "output_type": "stream",
          "name": "stdout",
          "text": [
            "+-------+----------------------------------------------------------------------------------------------------------------------------------------------------------------------------------------------------------------------------------------------------------------------------------------------------------------------------------------------------------------------------------------------------------------------------------------------------------------------------------------------------------------------------------------------------------------------------------------------------------------------------------------------------------------------------------------------------------------------------------------------------------------------------------------------------------------------------------------------------------------------------------------------------------------------------------------------------------------------------------------------------------------------------------------------------------------------------------------------------------------------------------------------------------------------------------------------------------------------------------------------------------------------------------------------------------------------------------------------------------------------------------------------------------------------------------------------------------------------------------------------------------------------------------------------------------------------------------------------------------------------------------------------------------------------------------------------------------------------------------------------------------------------------------------------------------------------------------------------------------------------------------------------------------------------------------------------------------------------------------------------------------------------------------------------------------------------------------------------------------------------------------------------------------------------------------------------------------------------------------------------------------------------------------------+\n",
            "|word   |vector                                                                                                                                                                                                                                                                                                                                                                                                                                                                                                                                                                                                                                                                                                                                                                                                                                                                                                                                                                                                                                                                                                                                                                                                                                                                                                                                                                                                                                                                                                                                                                                                                                                                                                                                                                                                                                                                                                                                                                                                                                                                                                                                                                                                                                                                                  |\n",
            "+-------+----------------------------------------------------------------------------------------------------------------------------------------------------------------------------------------------------------------------------------------------------------------------------------------------------------------------------------------------------------------------------------------------------------------------------------------------------------------------------------------------------------------------------------------------------------------------------------------------------------------------------------------------------------------------------------------------------------------------------------------------------------------------------------------------------------------------------------------------------------------------------------------------------------------------------------------------------------------------------------------------------------------------------------------------------------------------------------------------------------------------------------------------------------------------------------------------------------------------------------------------------------------------------------------------------------------------------------------------------------------------------------------------------------------------------------------------------------------------------------------------------------------------------------------------------------------------------------------------------------------------------------------------------------------------------------------------------------------------------------------------------------------------------------------------------------------------------------------------------------------------------------------------------------------------------------------------------------------------------------------------------------------------------------------------------------------------------------------------------------------------------------------------------------------------------------------------------------------------------------------------------------------------------------------+\n",
            "|45     |[0.4184534549713135,0.25696584582328796,-0.5416827201843262,0.3899427652359009,-0.012363851070404053,0.4102751314640045,0.030124997720122337,-0.13382215797901154,-0.2846619188785553,-0.2396443635225296,-0.10298618674278259,-0.36317241191864014,-0.7282794117927551,-0.262527734041214,0.28922513127326965,0.3568086624145508,-0.27706602215766907,-0.16510656476020813,0.3427754044532776,0.029376205056905746,0.0777520015835762,-0.2267179936170578,-0.39514103531837463,-0.2742884159088135,-0.15902641415596008,0.5335056185722351,0.0626160055398941,0.24932053685188293,-0.3470092713832855,-0.6018033623695374,0.6139031052589417,0.17438018321990967,-0.17527049779891968,-0.03156507387757301,-0.06409932672977448,-0.19537615776062012,-0.185069739818573,0.29388177394866943,0.5122436881065369,0.3488211929798126,-0.2787899672985077,-0.26677682995796204,0.29102087020874023,0.3147970736026764,0.08722661435604095,-0.1591295450925827,-0.28221115469932556,0.34965527057647705,0.21740838885307312,-0.40763241052627563,-0.1733054518699646,-0.32960569858551025,0.3224587142467499,-0.17941799759864807,0.01580880768597126,0.002870677039027214,-0.3369995653629303,-0.5205549001693726,0.0382990837097168,0.2154591828584671,0.3262802064418793,-0.415116548538208,0.07413651049137115,0.008382149040699005,0.4737507700920105,-0.033523764461278915,-0.2635999619960785,-0.7554417848587036,0.10241015255451202,-0.2888493239879608,0.0034216383937746286,-0.3136756718158722,0.0098643209785223,-0.31328123807907104,-0.12918755412101746,-0.12568697333335876,-0.6922925710678101,0.4954948127269745,0.5595234632492065,-0.6616825461387634,-0.5581005215644836,0.2086644321680069,0.08376569300889969,-0.19033850729465485,-0.1969577521085739,0.2085384577512741,0.29516205191612244,0.365061491727829,0.5679207444190979,-0.2936865985393524,0.42688876390457153,0.7661309242248535,0.07600803673267365,0.38319435715675354,-0.07067286968231201,-0.01353994570672512,0.19613529741764069,0.062193773686885834,0.11977451294660568,0.42695748805999756]                                                                                                                                                                                                   |\n",
            "|98     |[-0.8708040714263916,0.09890583157539368,-0.22269085049629211,0.07030788064002991,0.30956390500068665,0.4862591326236725,-0.20568318665027618,-0.40259528160095215,-0.01162303239107132,-0.17471928894519806,0.08780501782894135,0.28906768560409546,0.10744785517454147,0.1394917368888855,0.14252519607543945,0.1209876611828804,-0.10929112136363983,-0.05028822645545006,-0.7616065144538879,0.07214858382940292,0.03653864562511444,-0.04821362718939781,-0.7011128067970276,0.3373205065727234,0.14444643259048462,0.7342852354049683,0.22903963923454285,0.173274427652359,0.22097887098789215,0.12406986951828003,0.01572449319064617,0.17803815007209778,-0.6928763389587402,0.32151851058006287,0.8996062874794006,0.7031452059745789,-0.3566482663154602,-1.0192453861236572,-0.24328361451625824,0.042206428945064545,0.41768696904182434,-0.07956996560096741,0.1565687656402588,-0.10419218987226486,-0.27585625648498535,0.04938611760735512,0.23759804666042328,-0.2620173394680023,-0.0033204471692442894,0.46001243591308594,-0.14406350255012512,0.23927663266658783,0.2841930091381073,0.010725283995270729,-0.1701347976922989,0.08803772926330566,-0.25982287526130676,0.19527830183506012,-0.21487005054950714,0.41511988639831543,-0.33814409375190735,-0.059124574065208435,-0.2919861972332001,0.3755124807357788,-0.3090634047985077,-0.40233364701271057,-0.26816365122795105,-0.6589519381523132,0.40172624588012695,0.010966452769935131,0.14028888940811157,-0.02346418797969818,0.3509600758552551,0.04196004569530487,-0.02033492922782898,-0.1157543957233429,0.3399016857147217,-0.1624768227338791,-0.24083049595355988,-0.059420887380838394,-0.08114629983901978,-0.39298880100250244,-0.6778473258018494,0.3201007843017578,0.573487401008606,0.1992327868938446,0.16975776851177216,0.014157760888338089,-0.11313226819038391,-0.2657317817211151,-0.23175539076328278,0.0871141254901886,-0.2857236862182617,0.0190451517701149,-0.1397096961736679,0.16334225237369537,0.1504461169242859,0.7566825151443481,0.4281788468360901,-0.027240514755249023]                                                                                                                                                                                        |\n",
            "|sainte |[0.9552093148231506,-0.3894015848636627,0.26493775844573975,-0.38780495524406433,0.06752624362707138,-0.9568465948104858,-0.46043097972869873,0.21098272502422333,0.19577956199645996,0.04931359365582466,0.2882642149925232,0.266910195350647,0.6626264452934265,0.11987470835447311,-0.28352439403533936,-0.048530321568250656,0.28343465924263,0.14790716767311096,-0.013731497339904308,0.7017000913619995,-0.35694727301597595,-0.14247794449329376,0.7920030355453491,0.869937539100647,0.6399856209754944,-0.07552985846996307,0.08661593496799469,0.1291867345571518,0.30108433961868286,0.17024259269237518,-0.23500113189220428,0.3069464862346649,0.00407884456217289,0.4343738257884979,-0.5909814238548279,0.2976897656917572,-0.2474813610315323,0.027712099254131317,-0.15700344741344452,-0.2048877477645874,0.03392621502280235,0.047383543103933334,0.47181132435798645,-0.8760520815849304,0.6839199662208557,-0.7383290529251099,0.006626753602176905,-0.23055079579353333,-0.03716938570141792,0.9943224191665649,0.1451331079006195,0.46954432129859924,-0.599299967288971,0.45263925194740295,-0.35275688767433167,0.45754683017730713,-0.13167189061641693,-0.09976852685213089,0.3141133785247803,-0.936022937297821,0.009223674423992634,0.4815850257873535,0.745417594909668,-0.028545670211315155,-0.29714399576187134,-0.12299118936061859,-0.1880117803812027,0.46447575092315674,0.03934261202812195,0.216844841837883,0.5950111150741577,0.308515340089798,-0.24823707342147827,0.2813080847263336,0.14161203801631927,0.4044472873210907,0.4412837624549866,0.23296599090099335,-0.036653608083724976,0.48739105463027954,0.18094561994075775,-0.26831385493278503,0.10053876042366028,-0.11787915229797363,-0.3336887061595917,-0.1908484399318695,-0.3011530935764313,-0.26919564604759216,-0.05516683682799339,0.23585733771324158,-0.16564840078353882,-0.34695881605148315,-0.6072385311126709,0.39636969566345215,0.06952354311943054,0.538936972618103,-0.042438700795173645,-0.35082530975341797,-0.4568699598312378,0.018549829721450806]                                                                                                                                                                                                     |\n",
            "|34     |[0.09564092755317688,-0.20839720964431763,0.16686603426933289,-0.17924684286117554,0.5351788401603699,-0.47595274448394775,0.369244784116745,0.35492536425590515,0.08793515712022781,0.1691538393497467,0.12013036757707596,1.0376750230789185,-0.1252148300409317,-0.3876568377017975,-0.21609729528427124,-0.3886466324329376,0.14752334356307983,-0.4983263313770294,-0.6607920527458191,0.6453738808631897,0.08641338348388672,-0.1725415587425232,0.25417211651802063,0.2870329022407532,-0.24703744053840637,0.08596400171518326,0.010347156785428524,0.5395715236663818,-0.2737220525741577,0.15081088244915009,-0.02831372246146202,-0.20250944793224335,0.11004467308521271,-0.19146335124969482,-0.5908018946647644,0.01820393092930317,-0.4868350625038147,-0.2918548285961151,-0.4110768735408783,0.21216511726379395,0.7807976007461548,-0.15781718492507935,0.04097394645214081,-0.17948316037654877,-0.42793408036231995,-0.2578308880329132,-0.20101064443588257,0.4512743055820465,0.27912864089012146,-0.12469567358493805,-0.1440805047750473,-0.4495936930179596,0.4182451665401459,-0.22929471731185913,0.58153235912323,0.2480618953704834,0.1291634738445282,0.08212456852197647,0.23739324510097504,0.5074992179870605,0.5022575855255127,-0.7265243530273438,-0.20479515194892883,-0.27736562490463257,0.10789299756288528,0.22252389788627625,-0.35379061102867126,-0.7996631264686584,0.04084642976522446,-0.44941189885139465,0.0386117547750473,-0.16435016691684723,0.14838646352291107,-0.1040630042552948,0.2519446313381195,-0.11239738762378693,-0.40113234519958496,-0.03633527830243111,0.41689226031303406,-0.9017285108566284,-0.0656900629401207,0.15463539958000183,0.23565588891506195,0.1823422610759735,-0.3394468426704407,0.09623800963163376,-0.14449894428253174,0.21531853079795837,-0.6485774517059326,0.3580133020877838,0.007731964346021414,0.31801384687423706,-0.440564900636673,0.19764870405197144,0.4361722767353058,0.010279592126607895,0.17931990325450897,-0.07331832498311996,0.06688737124204636,0.16998110711574554]                                                                                                                                                                                                    |\n",
            "|mb     |[0.12786155939102173,-0.42708832025527954,-0.34119924902915955,-0.25433966517448425,-0.2590777277946472,0.14093613624572754,0.2746318578720093,-0.44437646865844727,-0.36275893449783325,-0.3563503324985504,-0.15727508068084717,-0.4239582121372223,0.11445324122905731,0.42899972200393677,-0.08068469166755676,0.6995142102241516,0.20113542675971985,0.28989890217781067,0.341323584318161,0.30727922916412354,-0.28419873118400574,0.5000782608985901,0.08455256372690201,-0.050981760025024414,-0.056973375380039215,0.4966821074485779,-0.5859537720680237,0.18289390206336975,0.07408852875232697,0.3647153973579407,-0.282630980014801,0.06467346847057343,0.38133278489112854,-0.3320377469062805,0.28256431221961975,-0.1483491212129593,0.3737117648124695,-0.6138868927955627,0.16625460982322693,-0.07761494815349579,-0.11638588458299637,0.17525240778923035,-0.2942741811275482,0.1066303700208664,-0.6983667016029358,0.13158436119556427,0.22902525961399078,-0.18449178338050842,0.6309202313423157,0.3391793370246887,-0.1761525422334671,0.28459328413009644,0.0890541598200798,0.07573814690113068,-0.42043083906173706,0.17158478498458862,0.02879154682159424,-0.22155120968818665,-0.47225457429885864,0.471687912940979,-0.3688504993915558,0.4592300355434418,-0.06102319434285164,0.07381155341863632,0.11948774009943008,-0.05413582921028137,-0.40718042850494385,-0.04107849672436714,-0.37991613149642944,-0.16939669847488403,-0.09643961489200592,0.507712185382843,-0.16451117396354675,0.5893946886062622,0.0067162709310650826,-0.44421935081481934,0.629966139793396,-0.1324300765991211,-0.3006318509578705,0.7233132123947144,-0.2865733504295349,-0.40947556495666504,0.29029616713523865,-0.011418599635362625,0.29961174726486206,-0.21169409155845642,-0.04409965127706528,0.23372700810432434,0.2592233121395111,-0.12519823014736176,0.21973662078380585,0.23145076632499695,-0.4876534044742584,-0.2694099545478821,-0.054297931492328644,0.006794419139623642,0.005340305157005787,0.9282104969024658,0.12768787145614624,-0.6341109275817871]                                                                                                                                                                                        |\n",
            "|120    |[-0.3345831334590912,-0.698204755783081,0.12255069613456726,-0.6516088843345642,-0.20026211440563202,0.1959223747253418,-0.28577980399131775,-0.10379712283611298,-0.22562061250209808,0.16385047137737274,0.45129871368408203,0.6128512620925903,-0.2833811044692993,-0.4227411150932312,0.12115821987390518,0.3738524615764618,-0.3463960886001587,-0.305163711309433,0.433051735162735,0.5423990488052368,-0.08802962303161621,-0.06661170721054077,0.6503873467445374,0.18571250140666962,-0.6379231810569763,0.31760889291763306,0.26213735342025757,-0.06929802894592285,-0.07175219058990479,0.4807512164115906,0.19708046317100525,0.18943919241428375,-0.31225836277008057,0.03685443103313446,-0.21551978588104248,-0.5305025577545166,-0.018604155629873276,-0.4993090033531189,0.5631014108657837,-0.15518318116664886,0.17167887091636658,-0.32001039385795593,0.15241886675357819,-0.29634416103363037,0.2819061577320099,-0.056814584881067276,-0.12481948733329773,0.04577913135290146,0.1795780062675476,0.33221301436424255,-0.3457684814929962,0.08884955197572708,-0.05577293038368225,0.19683733582496643,0.1243099644780159,1.3264174461364746,-0.03976798802614212,0.13304413855075836,-0.16790461540222168,-0.6906045079231262,-0.5686677098274231,-0.6569347381591797,-0.20398372411727905,-0.10513313114643097,0.39362832903862,0.26605695486068726,-0.29236850142478943,-0.6151333451271057,0.1985156536102295,-0.3424966335296631,0.2383328676223755,-0.7113947868347168,0.1741247922182083,0.2694041430950165,-0.398296982049942,-0.46318307518959045,-0.6079649329185486,0.8895098567008972,0.2696230113506317,-0.7848520874977112,0.07912954688072205,0.4027858376502991,-0.03923740237951279,0.24502268433570862,-0.13742990791797638,-0.17085635662078857,-0.34371936321258545,0.2294216901063919,0.06922110170125961,0.142486572265625,-0.3368367850780487,-0.01628594473004341,-0.18675319850444794,0.23277176916599274,0.4177588224411011,-0.07089974731206894,-0.09999293088912964,0.4585888385772705,-0.17649318277835846,-0.06077943742275238]                                                                                                                                                                                                   |\n",
            "|       |[-0.003369684796780348,-0.004632547032088041,0.0013149059377610683,0.004614599514752626,0.004020022694021463,0.0013735913671553135,-0.004645969718694687,0.0013078695628792048,-8.986752945929766E-4,-6.675630575045943E-4,0.0036647110246121883,-0.0015517431311309338,-0.0020587723702192307,0.0014212679816409945,-0.0048508113250136375,3.964292991440743E-4,0.0038776241708546877,-0.003992361947894096,0.0010340559529140592,0.0013110119616612792,0.0015583712374791503,-0.0019748008344322443,0.00102965475525707,-0.004354964010417461,-0.0046036322601139545,-0.004673121962696314,-0.003549107350409031,0.002942748600617051,0.0014445954002439976,0.0016447592061012983,3.757810627575964E-4,-1.697522384347394E-4,0.0018844520673155785,-2.1266758267302066E-4,1.159775274572894E-4,-0.0021100800950080156,-0.001974883722141385,-0.0037687914445996284,-0.003414651844650507,-0.003836132353171706,-0.003671957179903984,0.002611896488815546,-0.0042849634774029255,-0.004345966503024101,-0.004277035593986511,0.0010150992311537266,0.002955799689516425,0.004905346781015396,-0.0014187246561050415,-0.004342195577919483,0.0030306344851851463,0.002192870480939746,-0.0015667688567191362,-0.003819898469373584,0.0026930738240480423,1.0033428407041356E-4,-0.0025666600558906794,0.002816084073856473,8.424890111200511E-4,-0.0015195870073512197,0.0038190537597984076,0.002202556701377034,0.0014412665041163564,-0.004156449809670448,-2.5925575755536556E-4,-0.0022080689668655396,0.004884319845587015,-0.004676154814660549,0.003581346245482564,-0.0014121956191956997,-0.002792463870719075,-0.0013289827620610595,-0.003205864457413554,7.59930582717061E-4,-6.560009787790477E-4,-0.004870233591645956,-0.004903346300125122,-0.0032277863938361406,-1.2507081555668265E-4,5.068206810392439E-4,0.0046209306456148624,-0.0030615360010415316,-2.574592945165932E-4,0.003563826670870185,-0.00466274656355381,0.0021179455798119307,-0.0013793903635814786,0.003953407984226942,0.003297325922176242,0.004767615348100662,-3.4210683224955574E-5,-0.0017503947019577026,-0.0021224594675004482,0.003688744269311428,-0.0038545923307538033,0.004981658887118101,-0.0010783213656395674,-0.004559514578431845,0.002403374994173646,-0.0020222163293510675]|\n",
            "|93     |[0.2641453742980957,0.0019895583391189575,-0.5532487630844116,0.6003621220588684,0.5111207365989685,-0.3303690254688263,0.8513773679733276,-0.2128279060125351,0.06318271905183792,0.29121923446655273,-0.006329032592475414,-0.5062437057495117,-0.6529911160469055,-0.08543850481510162,0.3774365186691284,-0.5095801949501038,0.2047029435634613,0.40244260430336,0.36954981088638306,-0.12624375522136688,0.09596233814954758,-0.3179587721824646,0.32382580637931824,-0.5797854065895081,-0.15283805131912231,0.32657596468925476,0.021646734327077866,-0.5947686433792114,-0.35407787561416626,0.36061763763427734,-0.20253986120224,0.33783429861068726,-0.3312735855579376,-0.11826896667480469,0.07084189355373383,0.23077093064785004,0.10649467259645462,0.33417004346847534,-0.038748301565647125,0.1227501928806305,0.14666377007961273,0.025340117514133453,-0.04504009336233139,-0.1284829080104828,0.3645699918270111,-0.311565101146698,-0.19778704643249512,-0.3106333017349243,-0.37216442823410034,-0.4372532367706299,-0.28904029726982117,-0.5430237054824829,-0.09772324562072754,0.020086076110601425,-0.024325493723154068,-0.4476912021636963,0.3540317416191101,-0.13587845861911774,0.41543158888816833,0.22267289459705353,-0.13332366943359375,-0.714691698551178,-0.14166535437107086,-0.3889493942260742,-0.002048349007964134,-0.11571850627660751,0.0644386038184166,-0.4296122193336487,-0.024540124461054802,0.2220354676246643,-0.010555120185017586,0.46307119727134705,-0.2383117973804474,0.01334928348660469,0.32394716143608093,0.14051416516304016,0.15945124626159668,0.31953418254852295,-0.021581590175628662,0.07065802067518234,-0.5450972318649292,-0.18966589868068695,-0.4661587178707123,0.2975359857082367,0.5593763589859009,0.10247482359409332,-0.05660277605056763,0.6018667817115784,0.3085910677909851,-0.5963144302368164,0.113913394510746,0.003301704302430153,0.23661796748638153,0.08477073907852173,0.07254967838525772,0.14181864261627197,0.21720001101493835,-0.0941130593419075,-0.06498157978057861,-0.264956533908844]                                                                                                                                                                                           |\n",
            "|antonio|[-0.016837596893310547,-0.29476237297058105,0.2024456411600113,0.22787624597549438,-0.18724031746387482,-0.12320985645055771,-0.6708139777183533,-0.01716861128807068,-0.6282870173454285,-0.09694372117519379,0.18781067430973053,0.16330836713314056,-8.832367020659149E-4,0.23597446084022522,-0.06792862713336945,0.1662469357252121,-0.4009796679019928,0.15977400541305542,-0.4242558777332306,0.1289159655570984,0.10996756702661514,0.4998805820941925,0.01457575149834156,0.22062310576438904,0.36810562014579773,0.33852508664131165,-0.09697504341602325,0.6772056221961975,0.07291685789823532,0.14066235721111298,-0.0233682319521904,0.13615277409553528,-0.5582075119018555,-0.25303545594215393,0.41302254796028137,0.3669576048851013,-0.1326151341199875,-0.2822401225566864,-0.002975901123136282,0.1366843581199646,-0.1894504427909851,0.179011732339859,-0.16642041504383087,0.08034839481115341,-0.5190308690071106,-0.06722573935985565,-0.38930022716522217,-0.15283219516277313,-0.005325648933649063,-0.4304955303668976,-0.4865521192550659,0.4500565826892853,0.3716645836830139,0.10676516592502594,0.08966992050409317,-0.25203627347946167,-0.13215221464633942,-0.17813749611377716,0.22991988062858582,-0.11961599439382553,-0.46321138739585876,-0.20326367020606995,0.36928606033325195,0.38791900873184204,-0.3060087561607361,-0.3727996051311493,-0.4249950051307678,-0.7721158862113953,-0.22202500700950623,0.4683648645877838,0.285022497177124,-0.4302264153957367,0.17163072526454926,0.45117250084877014,-0.3208543062210083,0.14997591078281403,0.19935332238674164,0.5640690922737122,-0.24023796617984772,0.3433093726634979,-0.17865493893623352,-0.41209712624549866,0.6395872831344604,0.8552107810974121,0.2876439392566681,0.33813783526420593,0.3735160231590271,0.9810519218444824,-0.5994658470153809,-0.22824932634830475,-0.23406042158603668,0.3416263461112976,0.11075763404369354,0.0643991231918335,-0.4726564884185791,0.03488793596625328,0.2362954467535019,0.4167490601539612,0.29509761929512024,-0.18770578503608704]                                                                                                                                                                                               |\n",
            "|ct     |[0.41921621561050415,0.11212076246738434,0.23192048072814941,-0.6690436005592346,0.19555319845676422,-0.0790996253490448,-0.3870593309402466,-0.48304128646850586,0.21571974456310272,-0.538468599319458,-0.20191305875778198,-0.1419980674982071,0.28153741359710693,0.5369691848754883,-0.41909706592559814,0.26919251680374146,-0.0861014649271965,0.25010570883750916,0.54937344789505,0.4444340467453003,-0.23594778776168823,0.4289303719997406,0.13878104090690613,0.12894825637340546,-0.04527176544070244,-0.07526426017284393,0.02151496708393097,0.3086342215538025,0.3055696189403534,0.08427899330854416,-0.076783187687397,0.03080996684730053,-0.3668786883354187,-0.11974630504846573,-0.01380022894591093,-0.3614557683467865,0.011215327307581902,0.026698248460888863,0.15382301807403564,-0.2178657352924347,-0.21608886122703552,0.24663105607032776,-0.3904251158237457,0.8157374858856201,-0.5587548017501831,-0.3252573013305664,0.4518852233886719,-0.106214240193367,0.4781312942504883,0.9570832252502441,0.059655819088220596,-0.1837480515241623,0.10761528462171555,0.2372773140668869,-0.7363241910934448,0.1000114306807518,-0.046434830874204636,-0.10585280507802963,0.4326123297214508,-0.21252158284187317,-0.024583613499999046,0.4439460337162018,0.5464083552360535,-0.12511494755744934,0.4242936670780182,-0.46877428889274597,-0.20979514718055725,-0.005109934136271477,-0.20609524846076965,0.28439217805862427,-0.055958107113838196,0.21835093200206757,-0.12744584679603577,0.026095518842339516,-0.2900000214576721,-0.13415606319904327,0.5920106172561646,0.10089704394340515,-0.2768683433532715,-0.28356364369392395,-0.0673259049654007,0.08087457716464996,0.11165031045675278,-0.11140181124210358,0.2490311861038208,0.14148014783859253,0.07470836490392685,0.1708640605211258,0.4756040871143341,-0.6112021207809448,-0.6902584433555603,0.6335247159004211,-0.6712143421173096,-0.28324875235557556,-0.19583795964717865,-0.35568106174468994,-0.5361789464950562,0.41961780190467834,0.08733125776052475,-0.05378580465912819]                                                                                                                                                                                              |\n",
            "|ravenna|[-0.35898810625076294,0.17195594310760498,-0.4555922746658325,-0.24565020203590393,-0.05989610403776169,0.554524302482605,-0.5513333082199097,-0.09757212549448013,0.40703558921813965,0.09786102175712585,-0.3823467791080475,-0.11413832753896713,0.31290194392204285,-0.3166045546531677,-0.27034658193588257,0.40791982412338257,0.474606990814209,-0.236040860414505,-0.4520934224128723,0.06781253963708878,-0.1904708743095398,0.7029651999473572,0.014682713896036148,-0.4746306538581848,-0.15854719281196594,-0.012646122835576534,-0.3400860130786896,-0.09476553648710251,0.07928640395402908,0.3023940920829773,0.3055724799633026,-0.08144429326057434,-0.13361860811710358,0.07742490619421005,-0.2695855498313904,-0.18018534779548645,0.047023747116327286,0.23750661313533783,-0.06183101609349251,-0.09850230067968369,0.7314462065696716,0.5954530835151672,-0.607634961605072,-0.2614985704421997,-0.2244839072227478,0.21612468361854553,0.16424213349819183,-0.34830719232559204,-0.6388305425643921,-0.1427011489868164,0.6529166102409363,0.15752311050891876,-0.16975703835487366,-0.2437514066696167,0.4202691316604614,0.009939737617969513,-0.4047355651855469,0.23001334071159363,-0.44497400522232056,-0.120167575776577,-0.43753480911254883,0.5917668342590332,0.5482413172721863,-0.17573916912078857,-0.4713723957538605,-0.33853235840797424,-0.34571078419685364,0.21585911512374878,-0.16405276954174042,-0.10945165902376175,-0.07964424043893814,-0.2591071128845215,0.1832706481218338,0.14132758975028992,-0.32398974895477295,0.06692633777856827,0.5816347002983093,0.3969388008117676,-0.12809713184833527,0.16557607054710388,0.1611991673707962,-0.29805272817611694,0.4085204303264618,0.1765104979276657,0.24171730875968933,-0.1586204171180725,0.30719465017318726,-0.15422871708869934,-0.275482714176178,0.13369812071323395,0.687414288520813,-0.011243212036788464,-0.21294836699962616,-0.4806559085845947,0.385020911693573,0.315350204706192,0.02884996123611927,0.8159435987472534,-0.04100675880908966,-0.2753456234931946]                                                                                                                                                                                                 |\n",
            "|rock   |[-0.19543032348155975,0.2242104560136795,-0.4299109876155853,-0.08566278219223022,-0.39084768295288086,0.03656632825732231,0.6878516674041748,0.2085237056016922,0.4364441931247711,-0.25624895095825195,0.04410694167017937,-0.4232426881790161,0.01884821057319641,-0.2915506958961487,-0.3046059012413025,0.4558162987232208,0.17626161873340607,-0.06899889558553696,0.3824140131473541,0.073002390563488,0.0946509912610054,-0.4574935734272003,0.38238203525543213,-0.0034454711712896824,-0.35444557666778564,0.5788179636001587,-0.09405412524938583,-0.19108355045318604,-0.41910359263420105,0.012133946642279625,-0.73187655210495,-0.22438925504684448,0.7728509902954102,-0.024662623181939125,-0.013337014243006706,-0.3321287930011749,0.5593637228012085,-0.12523846328258514,0.31223684549331665,-0.4246937930583954,-0.3905935287475586,-0.17535023391246796,-0.03557511046528816,0.09080487489700317,0.7167516946792603,0.13330845534801483,0.18664661049842834,-0.3595690131187439,0.23104199767112732,-0.284318208694458,0.21266557276248932,0.06482362002134323,-0.02807943895459175,-0.4039927124977112,-0.010622103698551655,0.03187398612499237,-0.4297802448272705,-0.03773165121674538,-0.5858244299888611,-0.1165284663438797,0.03238190338015556,-0.11563507467508316,-0.1191273108124733,-0.5655093193054199,0.40817880630493164,0.5255699157714844,0.5988260507583618,1.0826265811920166,0.14836594462394714,-0.23071293532848358,0.25603705644607544,0.744998037815094,-0.5935268402099609,-0.14231084287166595,0.17652477324008942,-0.42145389318466187,0.22277666628360748,-0.7085193991661072,-0.4029958248138428,0.48499369621276855,-0.41909685730934143,-0.21219845116138458,-0.2637680768966675,-0.4982786476612091,-0.08989016711711884,-0.4110276997089386,-0.47598567605018616,-0.5121362805366516,0.3302443325519562,-0.21853551268577576,0.18464164435863495,-0.37717893719673157,-0.20373138785362244,0.1196935623884201,0.9506417512893677,-0.0882188007235527,-0.19399842619895935,0.06448010355234146,-0.025369783863425255,-0.16693301498889923]                                                                                                                                                                                       |\n",
            "|nc     |[0.11622307449579239,0.08585812896490097,0.22994965314865112,-0.6983422636985779,-0.31186068058013916,-0.707726776599884,0.3155538737773895,-0.6926842331886292,-0.10170162469148636,-0.40334272384643555,1.006067156791687,0.705670177936554,-0.07685580104589462,0.4009873867034912,-0.9622851014137268,-0.04973989725112915,-0.06316731125116348,-0.5946907997131348,-0.3132876753807068,1.1322615146636963,-0.46982669830322266,0.25884172320365906,0.9307190775871277,0.4576018750667572,0.3217774033546448,0.39123299717903137,0.30020272731781006,0.2136872261762619,0.24993954598903656,0.14702387154102325,-0.6498748660087585,-0.18743547797203064,0.07456880062818527,-8.716527372598648E-4,-0.27333539724349976,0.06238695979118347,0.6949378252029419,-0.1269335299730301,-0.6951712965965271,-0.03429611772298813,0.2800600528717041,0.3770451545715332,-0.2312922328710556,0.19871295988559723,-0.7949610948562622,-0.5450517535209656,0.7043958306312561,-0.41336607933044434,1.0931745767593384,0.4961591958999634,0.23395124077796936,-0.1583935171365738,0.021152477711439133,0.015241637825965881,-0.5475431680679321,0.5991495251655579,0.7861818075180054,-0.16568396985530853,-0.0517406091094017,-0.31445303559303284,-0.022219590842723846,0.039345402270555496,0.4681815505027771,-0.2845163643360138,0.19051626324653625,-0.24806390702724457,-0.3779107332229614,-0.3316541612148285,-0.15607333183288574,0.11749517917633057,0.17211982607841492,0.14644309878349304,-0.0015914840623736382,0.3608452081680298,-0.05616198107600212,-0.02461126446723938,0.8685684204101562,-0.3939419388771057,-0.37774333357810974,-0.23249542713165283,-0.18601197004318237,-0.29297637939453125,0.31017130613327026,0.4949508309364319,0.15052755177021027,-0.3633030652999878,-0.454440712928772,0.36897844076156616,0.2620322108268738,-0.38251838088035583,-0.6967467069625854,0.73203444480896,-0.5697262287139893,-0.5738924145698547,0.09646216034889221,-0.3194482624530792,-0.3198171555995941,0.4695690870285034,0.4347204566001892,-0.1028597429394722]                                                                                                                                                                                                      |\n",
            "|12     |[-0.12649713456630707,0.16341142356395721,0.03078237920999527,-0.19531971216201782,0.2758554220199585,0.045029204338788986,-0.10868093371391296,0.07309391349554062,0.10299097001552582,-0.047505784779787064,0.1463293433189392,-0.025059662759304047,0.2821997106075287,-0.4123533070087433,0.3482677638530731,0.08972333371639252,-0.07431122660636902,0.09144080430269241,-0.6384941339492798,-0.48296406865119934,-0.1895718276500702,-0.052438195794820786,0.04105176031589508,-0.1943081021308899,0.06044694036245346,0.01935296133160591,-0.24096056818962097,-0.32352784276008606,-0.1473691612482071,-0.393110990524292,-0.15077567100524902,-0.09878116846084595,-0.13942556083202362,-0.27600395679473877,-0.18455958366394043,0.45702314376831055,0.06462937593460083,-0.2155846208333969,0.2229946404695511,0.30020850896835327,-0.05653167515993118,0.13794013857841492,0.32379135489463806,0.41498106718063354,-0.2322530746459961,-0.13742336630821228,-0.43014970421791077,-0.020741986110806465,-0.09015002846717834,-0.3259820342063904,-0.20782817900180817,-0.2287859171628952,-0.1287519633769989,-0.22750286757946014,-0.31502172350883484,0.08585234731435776,-0.0382547527551651,-0.061328496783971786,-0.22397243976593018,0.47007057070732117,0.3598736524581909,0.07810768485069275,0.08768512308597565,0.018742209300398827,0.18078161776065826,0.19187003374099731,0.4877290725708008,0.13383392989635468,0.06437665969133377,-0.026032650843262672,-0.38611286878585815,-0.09466106444597244,0.4211762249469757,-0.26950398087501526,-0.093813456594944,-0.027476996183395386,0.29124715924263,-0.30211499333381653,-0.011326564475893974,-0.11755672842264175,0.16875754296779633,0.2205004096031189,-0.19241462647914886,0.25203192234039307,-0.306655615568161,0.05368297919631004,-0.12473195791244507,-0.4801384210586548,-0.3136425316333771,-0.15923470258712769,0.532986581325531,-0.13531401753425598,-0.16521242260932922,-0.034229494631290436,-0.49239781498908997,-0.40941306948661804,0.32380494475364685,0.10649479180574417,-0.4289901554584503,-0.20363974571228027]                                                                                                                                                                   |\n",
            "|89     |[0.19931656122207642,0.24163715541362762,-0.3877069354057312,-0.24367979168891907,0.17666029930114746,0.6731952428817749,0.48640087246894836,-0.19366510212421417,-0.051579780876636505,0.408527672290802,-0.09067865461111069,0.1762053519487381,-0.0584728829562664,-0.23942312598228455,0.7080047130584717,-0.06349223852157593,0.27834656834602356,-0.18298432230949402,-0.17794887721538544,-0.20250271260738373,-0.5080682039260864,-0.33344766497612,0.15763550996780396,-0.26077529788017273,-0.44641560316085815,-0.0024755937047302723,-0.3912322223186493,-0.33056220412254333,-0.08951468020677567,-0.24370306730270386,0.24318359792232513,0.2983074188232422,-0.014672897756099701,-0.0637965127825737,-0.3497065603733063,-0.38495343923568726,0.2509363889694214,0.21486812829971313,0.17668551206588745,-0.25057587027549744,0.5161148905754089,8.856167551130056E-4,0.11816095560789108,0.08389653265476227,-0.2958788573741913,-0.053749825805425644,-0.2696887254714966,0.4690846800804138,-0.2599661350250244,-0.16422797739505768,-0.0697811171412468,-0.4166402220726013,-0.011636428534984589,0.10895955562591553,-0.5292423367500305,0.3657282888889313,0.16387438774108887,-0.5173385739326477,0.028490977361798286,0.4160386621952057,-0.2323063462972641,-0.1642860770225525,-0.30942392349243164,-0.37268123030662537,-0.20417247712612152,0.05194135382771492,-0.14687097072601318,-0.16758567094802856,-0.15867246687412262,-0.3087652921676636,-0.22564515471458435,0.2605223059654236,0.7903323769569397,0.13629724085330963,-0.36133700609207153,-0.02671479433774948,-0.15015283226966858,0.1787618100643158,0.16136214137077332,-0.2992149889469147,0.11858203262090683,0.11552464962005615,-0.2607664465904236,0.43313801288604736,0.38992589712142944,0.040174998342990875,-0.05267946794629097,0.34891748428344727,0.2984871566295624,-0.07630125433206558,0.19769100844860077,-0.07634323090314865,-0.0841759741306305,-0.0971173644065857,0.12430714815855026,-0.20994019508361816,0.45731231570243835,0.22562116384506226,-0.1856355369091034,0.040717873722314835]                                                                                                                                                                           |\n",
            "|city   |[0.032992541790008545,-0.7266623377799988,-0.3881720006465912,-0.7180895805358887,-0.47056010365486145,-0.4065744876861572,-0.9032868146896362,0.41236385703086853,-0.36971303820610046,-0.2739025354385376,-0.5732297301292419,-0.18303842842578888,0.5090667605400085,0.4267224371433258,-0.15765422582626343,-0.5768045783042908,0.15871527791023254,0.06713266670703888,-0.289960652589798,0.0891089141368866,-0.47831350564956665,-0.32074257731437683,-0.44343167543411255,0.2369672805070877,-0.03463568538427353,0.311828076839447,-0.6994205713272095,0.020120207220315933,0.3134889006614685,0.03541163355112076,0.1306522935628891,-0.507497251033783,0.579121470451355,-0.40072062611579895,-0.1466672420501709,-0.11349107325077057,-0.03453537076711655,-0.6083970069885254,-0.037233080714941025,-0.08115403354167938,0.42798247933387756,-0.11845922470092773,-0.044191062450408936,-0.6158822178840637,0.07175411283969879,-0.3919302225112915,0.20622295141220093,-0.20446309447288513,-0.1715642362833023,0.9094993472099304,0.22742889821529388,0.5466495156288147,0.1350957304239273,0.0562145859003067,-0.06950470060110092,0.7979631423950195,0.8870900869369507,-0.006773572415113449,0.1248934343457222,0.6989847421646118,-0.6698387861251831,1.1620553731918335,-0.2958367168903351,0.23029257357120514,-0.11152341961860657,0.16217908263206482,-0.21753078699111938,0.7012200355529785,0.2876857817173004,-0.3413885533809662,-0.08018240332603455,0.7236024141311646,-0.6866880655288696,0.6851332187652588,-0.31443145871162415,-0.538948655128479,0.7015504837036133,0.051561400294303894,-0.44307518005371094,0.38902759552001953,-0.3380538821220398,-0.1503671556711197,-0.07898781448602676,-0.3397848308086395,-0.215732604265213,0.4080212116241455,-0.6395418047904968,-0.5052770376205444,-0.5181930661201477,0.23261438310146332,0.36808836460113525,-0.22739504277706146,-0.24293799698352814,0.03737521171569824,0.08902011811733246,0.17855818569660187,0.5394247770309448,-0.2514025866985321,0.3713374137878418,0.4796203076839447]                                                                                                                                                                                                       |\n",
            "|84     |[-0.13138052821159363,0.20472775399684906,0.287740021944046,-0.3005373775959015,0.38202017545700073,0.13181538879871368,0.0491073802113533,-0.09609177708625793,0.28702619671821594,0.25526028871536255,0.4316246509552002,0.07380466163158417,-0.2306765913963318,-0.24937699735164642,0.06137978285551071,0.1057855412364006,0.36665815114974976,0.8559720516204834,0.454332172870636,-0.45055294036865234,0.0949651375412941,-0.24819105863571167,-0.4388672411441803,-0.009761522524058819,0.5187109112739563,-0.26575103402137756,0.051913000643253326,-0.39098241925239563,0.6437609791755676,-0.3850864768028259,0.8411175608634949,0.7213044762611389,-0.254255473613739,0.35119518637657166,0.0995648130774498,0.2342391163110733,0.3400120735168457,0.4032391905784607,-0.024750271812081337,-0.0857672169804573,-0.14368511736392975,-0.18014295399188995,-0.08970864117145538,-0.19288600981235504,0.03592934086918831,0.4376281499862671,-0.10666560381650925,-0.4323531985282898,-0.2595643997192383,0.5863973498344421,-0.009596738964319229,-0.09917003661394119,-0.3509601950645447,0.3470969796180725,-0.2504541873931885,0.1625983864068985,-0.14489376544952393,0.22014468908309937,0.5144539475440979,0.05667339637875557,-0.18364404141902924,0.44379904866218567,-0.16657067835330963,0.05172305554151535,-0.32301437854766846,-0.4997570514678955,-0.07800948619842529,-0.11936821788549423,-0.4394257962703705,0.09971391409635544,-0.19963042438030243,-0.3729087710380554,0.04410269111394882,0.38611501455307007,-0.3885441720485687,-0.37908080220222473,0.5385967493057251,0.3881383240222931,-0.5820528864860535,0.3639415502548218,0.3991190195083618,-0.27697625756263733,0.13982078433036804,0.020810170099139214,0.6071529984474182,0.3606869578361511,-0.016216572374105453,-0.29282379150390625,-0.3024296462535858,-0.3689592778682709,0.024597927927970886,-0.024730056524276733,0.15413399040699005,-0.2442844659090042,-0.08848655223846436,-0.24633948504924774,-0.842883288860321,0.2725508511066437,-0.2944662272930145,0.013527543283998966]                                                                                                                                                                                               |\n",
            "|wi     |[-0.0701257511973381,-0.12776708602905273,-0.6911080479621887,0.23795655369758606,-0.5821803212165833,0.28413572907447815,-0.1053822860121727,-0.28468838334083557,-0.08221377432346344,0.4286699891090393,-0.15809597074985504,0.4608768820762634,-0.3580772578716278,-0.45497435331344604,-0.13007321953773499,-0.22783774137496948,-0.04499267414212227,-0.6425825953483582,-0.8539742231369019,0.4103667140007019,-0.758888304233551,-0.38168978691101074,0.11049102991819382,-0.04180661216378212,-0.7292332053184509,0.12694211304187775,-0.598456084728241,-0.42120200395584106,-0.09002818912267685,-0.6345459222793579,0.04948781058192253,0.002366794506087899,0.2373356968164444,0.1072661429643631,-1.3828579187393188,-0.8093426823616028,0.8874576091766357,0.372927188873291,-0.3644919693470001,-0.7208435535430908,0.8474475741386414,0.11380422115325928,0.24938485026359558,0.38725990056991577,-0.24386149644851685,-0.314779669046402,0.37213778495788574,0.7417703866958618,-0.011651395820081234,0.07660306245088577,0.7569444179534912,-0.43557560443878174,0.36079439520835876,-0.14906248450279236,-0.6361289024353027,0.6225378513336182,0.32021820545196533,-0.32586681842803955,-0.5699598789215088,0.5379283428192139,-0.6484544277191162,0.1124730333685875,0.39986154437065125,-0.7772322297096252,-0.31522348523139954,0.034603726118803024,-0.291901558637619,0.12534019351005554,-0.2980796694755554,-0.5970937609672546,-0.014150944538414478,0.31241920590400696,0.7388489246368408,0.26270386576652527,-0.6517212390899658,0.023838702589273453,-0.0813274085521698,0.14693012833595276,0.5416545867919922,-0.4560646116733551,4.733479581773281E-4,0.3971065580844879,-0.20537488162517548,0.6073053479194641,0.398557186126709,-0.4882366359233856,0.24519667029380798,0.011400223709642887,0.06581192463636398,-0.8449916243553162,0.3806190490722656,0.3481902778148651,-0.08580034226179123,-0.2812156081199646,0.5821349620819092,-0.12001720815896988,0.27273914217948914,0.5775003433227539,0.052295420318841934,0.28499236702919006]                                                                                                                                                                                                     |\n",
            "|8      |[0.1757228523492813,-0.12970305979251862,-0.7851904034614563,-0.4877750277519226,-0.4336584210395813,0.6832116842269897,-0.6001202464103699,-0.3724660873413086,0.5101718306541443,-0.1045031026005745,-0.693593442440033,-0.9028717875480652,0.5893846154212952,0.21158558130264282,0.43894898891448975,0.4752386212348938,0.09200863540172577,0.366045743227005,0.3473639488220215,-0.19535642862319946,-0.5432154536247253,0.23909328877925873,-0.8112815022468567,-0.03635212033987045,0.017543094232678413,-0.11528602987527847,-0.1871040016412735,-0.3233270049095154,0.300162136554718,-0.02770763263106346,0.16489236056804657,0.7332710027694702,-0.08456737548112869,0.003522278741002083,0.465397447347641,-0.43102896213531494,0.07384290546178818,-0.37318503856658936,0.20377619564533234,0.15967030823230743,0.32949432730674744,0.3031601011753082,0.2829303741455078,-0.3339274227619171,-0.2372351586818695,0.4331652522087097,0.4381008446216583,0.13510197401046753,0.15365588665008545,-0.3173009157180786,0.6477610468864441,0.19281917810440063,-0.19033056497573853,-0.035679616034030914,-0.619456946849823,0.35021865367889404,-0.6437361836433411,-0.11008073389530182,-0.5308879017829895,0.1773962378501892,-0.09901502728462219,0.65135657787323,-0.3009898066520691,0.055934611707925797,-0.13993535935878754,-0.4479897618293762,-0.4704661965370178,0.2317960113286972,0.49185413122177124,0.22531314194202423,-0.2555123567581177,0.2274188995361328,0.302749365568161,-0.20386777818202972,-0.11174225062131882,0.3962986171245575,0.1380600482225418,0.2417459785938263,-0.030202709138393402,1.102474570274353,0.3451001048088074,-0.06620828062295914,0.28067710995674133,0.205559641122818,0.11850295960903168,-0.16663037240505219,0.7332695722579956,-0.19992277026176453,0.20150627195835114,0.3236854076385498,-0.1298377960920334,-0.16714954376220703,-0.3107181489467621,0.5079400539398193,-0.1008700281381607,-0.27975448966026306,-0.26781100034713745,0.2966291010379791,-0.1266186684370041,-0.0829572007060051]                                                                                                                                                                                                                    |\n",
            "|paul   |[0.25815102458000183,0.15480908751487732,-0.27282649278640747,-0.006047740578651428,0.3051625192165375,-0.3884395956993103,-0.5412837862968445,0.06803977489471436,0.1722407191991806,0.014846446923911572,0.3111172020435333,-0.5846229791641235,0.14718812704086304,0.018135951831936836,-0.0024756190832704306,-0.6609718203544617,-0.05705958604812622,0.10013158619403839,0.14830048382282257,0.009577992372214794,0.22603094577789307,0.019626975059509277,0.1442696452140808,-0.21012187004089355,0.28446221351623535,-0.44545844197273254,0.176832377910614,0.03139084577560425,0.04742417484521866,-0.44408297538757324,-0.3334888219833374,0.1788455843925476,-0.34487012028694153,0.11217157542705536,-0.29433155059814453,0.36040061712265015,-0.8168360590934753,0.4296918213367462,-0.05649988353252411,0.3993438184261322,0.15788128972053528,-0.03941557928919792,-0.44076839089393616,-0.7094481587409973,0.7256258130073547,-0.8988960981369019,-0.2827053666114807,-0.24134787917137146,-0.8222888112068176,-0.3472568988800049,0.2611786425113678,-0.5203457474708557,-0.15082591772079468,0.3805027902126312,0.27584514021873474,0.23625117540359497,-0.008659867569804192,-0.19079682230949402,0.1810436248779297,-0.5309788584709167,-0.5016031861305237,-0.4423358738422394,0.6020665764808655,-0.4257362484931946,-0.16518478095531464,0.23709112405776978,-0.5476513504981995,0.021955017000436783,-0.049913544207811356,0.49945035576820374,0.006245287600904703,0.21486063301563263,0.24960817396640778,-0.3009052574634552,-0.0512111559510231,0.5629937648773193,-0.0038776318542659283,0.4711853563785553,-0.22202885150909424,0.10536058992147446,-0.3465246260166168,-0.4549578130245209,0.35303544998168945,0.17640312016010284,0.5975057482719421,0.46100664138793945,0.153574138879776,0.22598481178283691,-0.523648738861084,0.46384331583976746,-0.31150582432746887,-0.02417576126754284,0.2186451554298401,-0.10100329667329788,0.26172035932540894,0.6006023287773132,0.5642338395118713,-0.28497275710105896,-0.2694608271121979,-0.30348914861679077]                                                                                                                                                                                        |\n",
            "+-------+----------------------------------------------------------------------------------------------------------------------------------------------------------------------------------------------------------------------------------------------------------------------------------------------------------------------------------------------------------------------------------------------------------------------------------------------------------------------------------------------------------------------------------------------------------------------------------------------------------------------------------------------------------------------------------------------------------------------------------------------------------------------------------------------------------------------------------------------------------------------------------------------------------------------------------------------------------------------------------------------------------------------------------------------------------------------------------------------------------------------------------------------------------------------------------------------------------------------------------------------------------------------------------------------------------------------------------------------------------------------------------------------------------------------------------------------------------------------------------------------------------------------------------------------------------------------------------------------------------------------------------------------------------------------------------------------------------------------------------------------------------------------------------------------------------------------------------------------------------------------------------------------------------------------------------------------------------------------------------------------------------------------------------------------------------------------------------------------------------------------------------------------------------------------------------------------------------------------------------------------------------------------------------------+\n",
            "only showing top 20 rows\n",
            "\n"
          ]
        },
        {
          "output_type": "stream",
          "name": "stderr",
          "text": [
            "/content/spark-3.2.1-bin-hadoop3.2/python/pyspark/sql/context.py:127: FutureWarning: Deprecated in 3.0.0. Use SparkSession.builder.getOrCreate() instead.\n",
            "  FutureWarning\n"
          ]
        }
      ]
    },
    {
      "cell_type": "code",
      "source": [
        "from difflib import SequenceMatcher\n",
        "\n",
        "def similar(a, b):\n",
        "    return SequenceMatcher(None, a, b).ratio()\n",
        "\n",
        "similar(\"Christian\",\"Christine\")"
      ],
      "metadata": {
        "colab": {
          "base_uri": "https://localhost:8080/"
        },
        "id": "94_qd-Y_SRdc",
        "outputId": "eb2e8e9d-907a-4071-fc6b-b70bc3260de8"
      },
      "execution_count": 182,
      "outputs": [
        {
          "output_type": "execute_result",
          "data": {
            "text/plain": [
              "0.8888888888888888"
            ]
          },
          "metadata": {},
          "execution_count": 182
        }
      ]
    }
  ]
}